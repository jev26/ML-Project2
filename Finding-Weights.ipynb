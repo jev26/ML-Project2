{
 "cells": [
  {
   "cell_type": "code",
   "execution_count": 1,
   "metadata": {},
   "outputs": [],
   "source": [
    "from test import load_data_sparse\n",
    "from SGD import *\n",
    "from ALS import *\n",
    "from surprise_models import *\n",
    "from surprise.model_selection import train_test_split"
   ]
  },
  {
   "cell_type": "code",
   "execution_count": 2,
   "metadata": {},
   "outputs": [],
   "source": [
    "def calculate_rmse(real_labels, predictions):\n",
    "    \"\"\"Calculate RMSE.\"\"\"\n",
    "    return np.linalg.norm(real_labels - predictions) / np.sqrt(len(real_labels))"
   ]
  },
  {
   "cell_type": "code",
   "execution_count": 3,
   "metadata": {},
   "outputs": [],
   "source": [
    "data_name = \"data/47b05e70-6076-44e8-96da-2530dc2187de_data_train.csv\"\n",
    "test_name = \"data/sampleSubmission.csv\""
   ]
  },
  {
   "cell_type": "markdown",
   "metadata": {},
   "source": [
    "Load trainset:"
   ]
  },
  {
   "cell_type": "code",
   "execution_count": 4,
   "metadata": {},
   "outputs": [],
   "source": [
    "sp_ratings, pd_ratings = load_data_sparse(data_name, False)"
   ]
  },
  {
   "cell_type": "markdown",
   "metadata": {},
   "source": [
    "Convert it into surprise"
   ]
  },
  {
   "cell_type": "code",
   "execution_count": 5,
   "metadata": {},
   "outputs": [],
   "source": [
    "spr_data = pandas_to_surprise(pd_ratings)"
   ]
  },
  {
   "cell_type": "markdown",
   "metadata": {},
   "source": [
    "Split into test and dataset"
   ]
  },
  {
   "cell_type": "code",
   "execution_count": 6,
   "metadata": {},
   "outputs": [],
   "source": [
    "trainset, testset = train_test_split(spr_data, test_size=.1)"
   ]
  },
  {
   "cell_type": "markdown",
   "metadata": {},
   "source": [
    "get labels"
   ]
  },
  {
   "cell_type": "code",
   "execution_count": 7,
   "metadata": {},
   "outputs": [],
   "source": [
    "_,_,labels = get_testset_indices(testset)"
   ]
  },
  {
   "cell_type": "code",
   "execution_count": 8,
   "metadata": {},
   "outputs": [
    {
     "name": "stdout",
     "output_type": "stream",
     "text": [
      "Estimating biases using als...\n"
     ]
    }
   ],
   "source": [
    "baseline = surprise_baseline(trainset, testset)"
   ]
  },
  {
   "cell_type": "code",
   "execution_count": 9,
   "metadata": {},
   "outputs": [
    {
     "data": {
      "text/plain": [
       "1.0000270278064725"
      ]
     },
     "execution_count": 9,
     "metadata": {},
     "output_type": "execute_result"
    }
   ],
   "source": [
    "calculate_rmse(labels, baseline)"
   ]
  },
  {
   "cell_type": "code",
   "execution_count": 10,
   "metadata": {
    "scrolled": true
   },
   "outputs": [],
   "source": [
    "svd = surprise_SVD(trainset, testset)"
   ]
  },
  {
   "cell_type": "code",
   "execution_count": 11,
   "metadata": {},
   "outputs": [
    {
     "data": {
      "text/plain": [
       "1.0020748904168548"
      ]
     },
     "execution_count": 11,
     "metadata": {},
     "output_type": "execute_result"
    }
   ],
   "source": [
    "calculate_rmse(labels, svd)"
   ]
  },
  {
   "cell_type": "code",
   "execution_count": 12,
   "metadata": {},
   "outputs": [],
   "source": [
    "so = surprise_slopeOne(trainset, testset)"
   ]
  },
  {
   "cell_type": "code",
   "execution_count": 13,
   "metadata": {},
   "outputs": [
    {
     "data": {
      "text/plain": [
       "1.000550844353506"
      ]
     },
     "execution_count": 13,
     "metadata": {},
     "output_type": "execute_result"
    }
   ],
   "source": [
    "calculate_rmse(labels, so)"
   ]
  },
  {
   "cell_type": "code",
   "execution_count": 14,
   "metadata": {},
   "outputs": [
    {
     "name": "stdout",
     "output_type": "stream",
     "text": [
      "Estimating biases using als...\n",
      "Computing the pearson_baseline similarity matrix...\n",
      "Done computing similarity matrix.\n"
     ]
    }
   ],
   "source": [
    "bsknn = surprise_baselineKNN(trainset, testset)"
   ]
  },
  {
   "cell_type": "code",
   "execution_count": 15,
   "metadata": {},
   "outputs": [
    {
     "data": {
      "text/plain": [
       "0.9883088986305951"
      ]
     },
     "execution_count": 15,
     "metadata": {},
     "output_type": "execute_result"
    }
   ],
   "source": [
    "calculate_rmse(labels, bsknn)"
   ]
  },
  {
   "cell_type": "code",
   "execution_count": 16,
   "metadata": {},
   "outputs": [],
   "source": [
    "num_features = 40  # K in the lecture notes\n",
    "lambda_user = 0.1\n",
    "lambda_film = 0.1\n",
    "stop_criterion = 1e-4"
   ]
  },
  {
   "cell_type": "code",
   "execution_count": 17,
   "metadata": {},
   "outputs": [
    {
     "name": "stdout",
     "output_type": "stream",
     "text": [
      "learn the matrix factorization using ALS...\n",
      "RMSE: 1.0885379361895906.\n",
      "RMSE: 1.0446836227982086.\n",
      "RMSE: 1.0071044079361162.\n",
      "RMSE: 0.9772986419708037.\n",
      "RMSE: 0.9575377113888262.\n",
      "RMSE: 0.9437770101915395.\n",
      "RMSE: 0.9339080895372597.\n",
      "RMSE: 0.9267495812519011.\n",
      "RMSE: 0.9214784013817836.\n",
      "RMSE: 0.9175172063134795.\n",
      "RMSE: 0.9144782095587309.\n",
      "RMSE: 0.9121018932720457.\n",
      "RMSE: 0.9102113499318878.\n",
      "RMSE: 0.9086834796559254.\n",
      "RMSE: 0.9074311396743088.\n",
      "RMSE: 0.9063917054514165.\n",
      "RMSE: 0.9055194920304458.\n",
      "RMSE: 0.9047806363818766.\n",
      "RMSE: 0.9041496128014617.\n",
      "RMSE: 0.903606850916588.\n",
      "RMSE: 0.9031371004227797.\n",
      "RMSE: 0.902728299887454.\n",
      "RMSE: 0.9023707846156773.\n",
      "RMSE: 0.9020567227414422.\n",
      "RMSE: 0.9017797060771185.\n",
      "RMSE: 0.9015344474052494.\n",
      "RMSE: 0.9013165523958363.\n",
      "RMSE: 0.901122344963561.\n",
      "RMSE: 0.9009487316926147.\n",
      "RMSE: 0.9007930953584756.\n",
      "RMSE: 0.9006532104698802.\n",
      "RMSE: 0.9005271757025561.\n",
      "RMSE: 0.9004133594432011.\n",
      "RMSE: 0.9003103556101321.\n",
      "RMSE: 0.9002169476019075.\n",
      "Iteration stopped, as iteration criterion 0.0001 was reached. RMSE = 0.9002169476019075\n"
     ]
    }
   ],
   "source": [
    "als = ALS_CV(trainset, testset, num_features, lambda_user, lambda_film, stop_criterion)"
   ]
  },
  {
   "cell_type": "code",
   "execution_count": 18,
   "metadata": {},
   "outputs": [
    {
     "data": {
      "text/plain": [
       "0.9878658179585607"
      ]
     },
     "execution_count": 18,
     "metadata": {},
     "output_type": "execute_result"
    }
   ],
   "source": [
    "calculate_rmse(labels, als)"
   ]
  },
  {
   "cell_type": "code",
   "execution_count": 19,
   "metadata": {},
   "outputs": [
    {
     "name": "stdout",
     "output_type": "stream",
     "text": [
      "learn the matrix factorization using SGD...\n",
      "RMSE: 1.0411647662790124.\n",
      "RMSE: 1.0180645192189566.\n",
      "RMSE: 1.0094384123527471.\n",
      "RMSE: 1.0065622174302191.\n",
      "RMSE: 1.004430908125851.\n",
      "RMSE: 1.0036462616829969.\n",
      "RMSE: 1.0033836063118458.\n",
      "RMSE: 1.0032539740132023.\n",
      "RMSE: 1.0032227665707458.\n"
     ]
    }
   ],
   "source": [
    "sgd = matrix_factorization_SGD_CV(trainset, testset, num_features, lambda_user, lambda_film, stop_criterion)"
   ]
  },
  {
   "cell_type": "code",
   "execution_count": 20,
   "metadata": {},
   "outputs": [
    {
     "data": {
      "text/plain": [
       "1.0259306285053953"
      ]
     },
     "execution_count": 20,
     "metadata": {},
     "output_type": "execute_result"
    }
   ],
   "source": [
    "calculate_rmse(labels, sgd)"
   ]
  },
  {
   "cell_type": "code",
   "execution_count": 27,
   "metadata": {},
   "outputs": [],
   "source": [
    "def surprise_SVDpp(trainset, finalset):\n",
    "\n",
    "    options = {'method': 'als',\n",
    "               'reg_i': 1.e-5,\n",
    "               'reg_u': 14.6,\n",
    "               'n_epochs': 10\n",
    "               }\n",
    "\n",
    "    algo = spr.SVDpp(n_factors=40, n_epochs=20, lr_all=0.001)\n",
    "\n",
    "    algo.fit(trainset)\n",
    "    predictions_final = algo.test(finalset)\n",
    "\n",
    "    return spr_estimate_to_vect(predictions_final)"
   ]
  },
  {
   "cell_type": "code",
   "execution_count": 28,
   "metadata": {},
   "outputs": [],
   "source": [
    "svdpp = surprise_SVDpp(trainset, testset)"
   ]
  },
  {
   "cell_type": "code",
   "execution_count": 29,
   "metadata": {},
   "outputs": [
    {
     "data": {
      "text/plain": [
       "1.0017129237247184"
      ]
     },
     "execution_count": 29,
     "metadata": {},
     "output_type": "execute_result"
    }
   ],
   "source": [
    "calculate_rmse(labels, svdpp)"
   ]
  },
  {
   "cell_type": "markdown",
   "metadata": {},
   "source": [
    "# J'ai pas run SVDpp parce que ça prend du temps"
   ]
  },
  {
   "cell_type": "code",
   "execution_count": 31,
   "metadata": {},
   "outputs": [
    {
     "data": {
      "text/plain": [
       "array([-0.33202676, -0.24487176, -0.03659188,  0.29858978,  0.98595659,\n",
       "        0.05355454,  0.30458821])"
      ]
     },
     "execution_count": 31,
     "metadata": {},
     "output_type": "execute_result"
    }
   ],
   "source": [
    "X = [baseline, svd, so, bsknn, als, sgd, svdpp]\n",
    "X = pd.DataFrame(X)\n",
    "X = np.transpose(X)\n",
    "\n",
    "from sklearn.linear_model import Ridge\n",
    "linreg = Ridge(alpha=0.1, fit_intercept=False)\n",
    "linreg.fit(X, labels)\n",
    "linreg.coef_\n",
    "\n",
    "#result = svd_final * linreg.coef_[0] + so_final * linreg.coef_[1] + als_final * linreg.coef_[2] + sgd_final * linreg.coef_[3]"
   ]
  },
  {
   "cell_type": "code",
   "execution_count": 23,
   "metadata": {},
   "outputs": [
    {
     "data": {
      "text/plain": [
       "array([-0.09642474, -0.02721603, -0.19674828,  0.30887192,  1.0070824 ,\n",
       "        0.03200952])"
      ]
     },
     "execution_count": 23,
     "metadata": {},
     "output_type": "execute_result"
    }
   ],
   "source": []
  },
  {
   "cell_type": "code",
   "execution_count": null,
   "metadata": {},
   "outputs": [],
   "source": []
  }
 ],
 "metadata": {
  "kernelspec": {
   "display_name": "Python [default]",
   "language": "python",
   "name": "python3"
  },
  "language_info": {
   "codemirror_mode": {
    "name": "ipython",
    "version": 3
   },
   "file_extension": ".py",
   "mimetype": "text/x-python",
   "name": "python",
   "nbconvert_exporter": "python",
   "pygments_lexer": "ipython3",
   "version": "3.7.0"
  }
 },
 "nbformat": 4,
 "nbformat_minor": 2
}
