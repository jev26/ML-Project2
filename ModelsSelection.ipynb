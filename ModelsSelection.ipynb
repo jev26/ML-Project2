{
 "cells": [
  {
   "cell_type": "code",
   "execution_count": 3,
   "metadata": {},
   "outputs": [],
   "source": [
    "import pickle\n",
    "import numpy as np\n",
    "import pandas as pd\n",
    "from helper import *"
   ]
  },
  {
   "cell_type": "code",
   "execution_count": 4,
   "metadata": {},
   "outputs": [],
   "source": [
    "class Model:\n",
    "    name = ''\n",
    "    rmse = 0.0\n",
    "    model = ''\n",
    "    final_model = ''"
   ]
  },
  {
   "cell_type": "markdown",
   "metadata": {},
   "source": [
    "## Load the models"
   ]
  },
  {
   "cell_type": "code",
   "execution_count": 5,
   "metadata": {},
   "outputs": [],
   "source": [
    "labels = pickle.load(open('models/labels.pkl', 'rb'))\n",
    "\n",
    "baseline = Model()\n",
    "baseline.name = 'baseline'\n",
    "baseline.model = pickle.load(open('models/baseline.pkl', 'rb'))\n",
    "baseline.final_model = pickle.load(open('final_models/baseline_final.pkl', 'rb'))\n",
    "\n",
    "bsknn = Model()\n",
    "bsknn.name = 'bsknn'\n",
    "bsknn.model = pickle.load(open('models/bsknn.pkl', 'rb'))\n",
    "bsknn.final_model = pickle.load(open('final_models/bsknn_final.pkl', 'rb'))\n",
    "\n",
    "so = Model()\n",
    "so.name = 'so'\n",
    "so.model = pickle.load(open('models/so.pkl', 'rb'))\n",
    "so.final_model = pickle.load(open('final_models/so_final.pkl', 'rb'))\n",
    "\n",
    "svd = Model()\n",
    "svd.name = 'svd'\n",
    "svd.model = pickle.load(open('models/svd.pkl', 'rb'))\n",
    "svd.final_model = pickle.load(open('final_models/svd_final.pkl', 'rb'))\n",
    "\n",
    "als = Model()\n",
    "als.name = 'als'\n",
    "als.model = pickle.load(open('models/als.pkl', 'rb'))\n",
    "als.final_model = pickle.load(open('final_models/als_final.pkl', 'rb'))\n",
    "\n",
    "sgd = Model()\n",
    "sgd.name = 'sgd'\n",
    "sgd.model = pickle.load(open('models/sgd.pkl', 'rb'))\n",
    "sgd.final_model = pickle.load(open('final_models/sgd_final.pkl', 'rb'))"
   ]
  },
  {
   "cell_type": "code",
   "execution_count": 8,
   "metadata": {},
   "outputs": [],
   "source": [
    "globalmean = Model()\n",
    "globalmean.name = 'globalmean'\n",
    "globalmean.model = pickle.load(open('models/globalmean.pkl', 'rb'))\n",
    "globalmean.final_model = pickle.load(open('final_models/globalmean_final.pkl', 'rb'))\n",
    "\n",
    "usermean = Model()\n",
    "usermean.name = 'usermean'\n",
    "usermean.model = pickle.load(open('models/usermean.pkl', 'rb'))\n",
    "usermean.final_model = pickle.load(open('final_models/usermean_final.pkl', 'rb'))\n",
    "\n",
    "itemmean = Model()\n",
    "itemmean.name = 'itemmean'\n",
    "itemmean.model = pickle.load(open('models/itemmean.pkl', 'rb'))\n",
    "itemmean.final_model = pickle.load(open('final_models/itemmean_final.pkl', 'rb'))\n",
    "\n",
    "basicknn = Model()\n",
    "basicknn.name = 'basicknn'\n",
    "basicknn.model = pickle.load(open('models/basicknn.pkl', 'rb'))\n",
    "basicknn.final_model = pickle.load(open('final_models/basicknn_final.pkl', 'rb'))\n",
    "\n",
    "svdpp = Model()\n",
    "svdpp.name = 'svdpp'\n",
    "svdpp.model = pickle.load(open('models/svdpp.pkl', 'rb'))\n",
    "svdpp.final_model = pickle.load(open('final_models/svdpp_final.pkl', 'rb'))"
   ]
  },
  {
   "cell_type": "code",
   "execution_count": 9,
   "metadata": {},
   "outputs": [],
   "source": [
    "globalmedian = Model()\n",
    "globalmedian.name = 'globalmedian'\n",
    "globalmedian.model = pickle.load(open('models/globalmedian.pkl', 'rb'))\n",
    "globalmedian.final_model = pickle.load(open('final_models/globalmedian_final.pkl', 'rb'))\n",
    "\n",
    "usermedian = Model()\n",
    "usermedian.name = 'usermedian'\n",
    "usermedian.model = pickle.load(open('models/usermedian.pkl', 'rb'))\n",
    "usermedian.final_model = pickle.load(open('final_models/usermedian_final.pkl', 'rb'))\n",
    "\n",
    "itemmedian = Model()\n",
    "itemmedian.name = 'itemmedian'\n",
    "itemmedian.model = pickle.load(open('models/itemmedian.pkl', 'rb'))\n",
    "itemmedian.final_model = pickle.load(open('final_models/itemmedian_final.pkl', 'rb'))"
   ]
  },
  {
   "cell_type": "markdown",
   "metadata": {},
   "source": [
    "#### Compute RMSE for each model "
   ]
  },
  {
   "cell_type": "markdown",
   "metadata": {},
   "source": [
    "The ranking of the models will be done from the lower RMSE to the higher"
   ]
  },
  {
   "cell_type": "code",
   "execution_count": 10,
   "metadata": {},
   "outputs": [],
   "source": [
    "def calculate_rmse(real_labels, predictions):\n",
    "    \"\"\"Calculate RMSE.\"\"\"\n",
    "    return np.linalg.norm(real_labels - predictions) / np.sqrt(len(real_labels))"
   ]
  },
  {
   "cell_type": "code",
   "execution_count": 11,
   "metadata": {},
   "outputs": [],
   "source": [
    "models = [globalmean, usermean, itemmean, baseline, bsknn, basicknn, so, svd, als, sgd, svdpp, globalmedian, usermedian, itemmedian]"
   ]
  },
  {
   "cell_type": "code",
   "execution_count": 12,
   "metadata": {},
   "outputs": [],
   "source": [
    "for m in models:\n",
    "    m.rmse = calculate_rmse(labels, m.model)"
   ]
  },
  {
   "cell_type": "code",
   "execution_count": 13,
   "metadata": {},
   "outputs": [],
   "source": [
    "import operator\n",
    "sorted_models = sorted(models, key=operator.attrgetter('rmse'))"
   ]
  },
  {
   "cell_type": "code",
   "execution_count": 14,
   "metadata": {},
   "outputs": [
    {
     "name": "stdout",
     "output_type": "stream",
     "text": [
      "Model als : 0.9842761153117054\n",
      "Model bsknn : 0.9856890199729544\n",
      "Model so : 0.9969080076726844\n",
      "Model svdpp : 0.9974433490996525\n",
      "Model svd : 0.997766335033669\n",
      "Model basicknn : 1.0218854894245444\n",
      "Model sgd : 1.0228761455871391\n",
      "Model usermean : 1.0277625350651283\n",
      "Model itemmean : 1.0933093510076437\n",
      "Model usermedian : 1.0971948682814474\n",
      "Model globalmean : 1.117181294724137\n",
      "Model globalmedian : 1.1257663090048857\n",
      "Model itemmedian : 1.1482061792157034\n",
      "Model baseline : 1.2242112307678474\n"
     ]
    }
   ],
   "source": [
    "for m in sorted_models:\n",
    "    print('Model %s : %s' % (m.name,m.rmse))"
   ]
  },
  {
   "cell_type": "markdown",
   "metadata": {},
   "source": [
    "## Find the number of model to put in blending"
   ]
  },
  {
   "cell_type": "code",
   "execution_count": 15,
   "metadata": {},
   "outputs": [
    {
     "name": "stdout",
     "output_type": "stream",
     "text": [
      "With 1 model(s) : 0.9779485994184148\n",
      "With 2 model(s) : 0.9773859442081096\n",
      "With 3 model(s) : 0.9764474033068052\n",
      "With 4 model(s) : 0.9763607577458013\n",
      "With 5 model(s) : 0.9763290706974971\n",
      "With 6 model(s) : 0.9761895096523158\n",
      "With 7 model(s) : 0.9761855593988431\n",
      "With 8 model(s) : 0.9760702901268534\n",
      "With 9 model(s) : 0.9758706203320845\n",
      "With 10 model(s) : 0.9758705221770143\n",
      "With 11 model(s) : 0.975445879937087\n",
      "With 12 model(s) : 0.9754458799285446\n",
      "With 13 model(s) : 0.975442414794\n",
      "With 14 model(s) : 0.9754411738773269\n"
     ]
    }
   ],
   "source": [
    "from sklearn.linear_model import Ridge\n",
    "\n",
    "rmse_evolution = []\n",
    "\n",
    "for i in range(len(sorted_models)):\n",
    "    prediction = []\n",
    "    k_models = sorted_models[0:i+1]\n",
    "    \n",
    "    for m_id, m in enumerate(k_models):\n",
    "        if m_id == 0:\n",
    "            prediction = m.model\n",
    "        else:\n",
    "            prediction = np.vstack((prediction,m.model))\n",
    "        \n",
    "    prediction = pd.DataFrame(prediction)\n",
    "    \n",
    "    if i != 0:\n",
    "        prediction = np.transpose(prediction)\n",
    "    \n",
    "    #print(prediction.shape)\n",
    "    \n",
    "    # Blending\n",
    "    linreg = Ridge(alpha=0.1, fit_intercept=False)\n",
    "    linreg.fit(prediction, labels)\n",
    "    #print(linreg.coef_) # print weight for each model\n",
    "    \n",
    "    rmse = calculate_rmse(labels, prediction.dot(linreg.coef_))\n",
    "    print('With %s model(s) : %s' % (i+1,rmse))\n",
    "    rmse_evolution.append(rmse)\n",
    "    "
   ]
  },
  {
   "cell_type": "code",
   "execution_count": 16,
   "metadata": {},
   "outputs": [
    {
     "data": {
      "text/plain": [
       "[0.9779485994184148,\n",
       " 0.9773859442081096,\n",
       " 0.9764474033068052,\n",
       " 0.9763607577458013,\n",
       " 0.9763290706974971,\n",
       " 0.9761895096523158,\n",
       " 0.9761855593988431,\n",
       " 0.9760702901268534,\n",
       " 0.9758706203320845,\n",
       " 0.9758705221770143,\n",
       " 0.975445879937087,\n",
       " 0.9754458799285446,\n",
       " 0.975442414794,\n",
       " 0.9754411738773269]"
      ]
     },
     "execution_count": 16,
     "metadata": {},
     "output_type": "execute_result"
    }
   ],
   "source": [
    "rmse_evolution"
   ]
  },
  {
   "cell_type": "code",
   "execution_count": 17,
   "metadata": {},
   "outputs": [
    {
     "data": {
      "image/png": "[encoded data removed]",
      "text/plain": [
       "<Figure size 432x288 with 1 Axes>"
      ]
     },
     "metadata": {
      "needs_background": "light"
     },
     "output_type": "display_data"
    }
   ],
   "source": [
    "import matplotlib.pyplot as plt\n",
    "plt.plot(range(len(rmse_evolution)),rmse_evolution)\n",
    "plt.xlabel('Number of model(s)')\n",
    "plt.ylabel('RMSE')\n",
    "\n",
    "plt.grid(True)\n",
    "plt.savefig(\"test.png\", bbox_inches='tight')\n",
    "\n",
    "plt.show()"
   ]
  },
  {
   "cell_type": "code",
   "execution_count": 18,
   "metadata": {},
   "outputs": [],
   "source": [
    "best_nbrmodel = 11"
   ]
  },
  {
   "cell_type": "markdown",
   "metadata": {},
   "source": [
    "## Final Blending"
   ]
  },
  {
   "cell_type": "markdown",
   "metadata": {},
   "source": [
    "Define polynomial features fonction:"
   ]
  },
  {
   "cell_type": "code",
   "execution_count": null,
   "metadata": {},
   "outputs": [],
   "source": [
    "import itertools\n",
    "def polynomial_features(X, degree):\n",
    "    \"\"\"polynomial feature function that create a new features matrix with all combinations\n",
    "    of features with degree less than or equal to the degree\"\"\"\n",
    "    #get the number of samples and features from the X matrix\n",
    "    nb_samples, nb_features = X.shape\n",
    "\n",
    "    #create an iterator that lets us iterate over all combinations of numbers from 0 to nb_features-1\n",
    "    combi = itertools.chain.from_iterable(\n",
    "        itertools.combinations_with_replacement(range(nb_features), i) for i in range(degree + 1))\n",
    "\n",
    "    #use that iterator to get the total number of features of the output\n",
    "    nb_output = sum(1 for _ in combi)\n",
    "\n",
    "    #initiate an empty array for the output\n",
    "    PF = np.empty([nb_samples, nb_output])\n",
    "\n",
    "    #instantiate the iterator again\n",
    "    combi = itertools.chain.from_iterable(\n",
    "        itertools.combinations_with_replacement(range(nb_features), i) for i in range(degree + 1))\n",
    "\n",
    "    #create the polynomial features by iterating and multipliying the columns\n",
    "    for a, b in enumerate(combi):\n",
    "        PF[:, a] = X[:, b].prod(1)\n",
    "\n",
    "    return PF"
   ]
  },
  {
   "cell_type": "code",
   "execution_count": null,
   "metadata": {},
   "outputs": [],
   "source": [
    "from sklearn.linear_model import Ridge\n",
    "\n",
    "prediction = []\n",
    "k_models = sorted_models[0:best_nbrmodel]\n",
    "    \n",
    "for m_id, m in enumerate(k_models):\n",
    "    if m_id == 0:\n",
    "        prediction = m.model\n",
    "        prediction_final = m.final_model\n",
    "    else:\n",
    "        prediction = np.vstack((prediction,m.model))\n",
    "        prediction_final = np.vstack((prediction_final,m.final_model))\n",
    "        \n",
    "#prediction = pd.DataFrame(prediction)\n",
    "    \n",
    "if i != 0:\n",
    "    prediction = np.transpose(prediction)\n",
    "    prediction_final = np.transpose(prediction_final)\n",
    "    \n",
    "prediction = polynomial_features(prediction,2)\n",
    "prediction_final = polynomial_features(prediction_final,2)\n",
    "    \n",
    "# Blending\n",
    "linreg = Ridge(alpha=0.01, fit_intercept=False)\n",
    "linreg.fit(prediction, labels)\n",
    "print(linreg.coef_) # print weight for each model\n",
    "    \n",
    "rmse = calculate_rmse(labels, prediction.dot(linreg.coef_))"
   ]
  },
  {
   "cell_type": "code",
   "execution_count": 31,
   "metadata": {},
   "outputs": [
    {
     "data": {
      "text/plain": [
       "0.9729853439480759"
      ]
     },
     "execution_count": 31,
     "metadata": {},
     "output_type": "execute_result"
    }
   ],
   "source": [
    "rmse"
   ]
  },
  {
   "cell_type": "markdown",
   "metadata": {},
   "source": [
    "#### Final prediction"
   ]
  },
  {
   "cell_type": "code",
   "execution_count": 20,
   "metadata": {},
   "outputs": [
    {
     "name": "stdout",
     "output_type": "stream",
     "text": [
      "(1176952,)\n"
     ]
    }
   ],
   "source": [
    "final_result = []\n",
    "\n",
    "for m_id in range(prediction_final.shape[1]):\n",
    "    if m_id == 0:\n",
    "        final_result = linreg.coef_[m_id] * prediction_final[:,m_id]\n",
    "    else:\n",
    "        final_result = final_result + linreg.coef_[m_id] * prediction_final[:,m_id]\n",
    "\n",
    "print(final_result.shape)\n",
    "\n",
    "'''\n",
    "final_result = []\n",
    "\n",
    "for m_id, m in enumerate(sorted_models):\n",
    "    if m_id == 0:\n",
    "        final_result = linreg.coef_[m_id] * m.final_model\n",
    "    else:\n",
    "        final_result = final_result + linreg.coef_[m_id] * m.final_model\n",
    "\n",
    "print(final_result.shape)\n",
    "'''"
   ]
  },
  {
   "cell_type": "markdown",
   "metadata": {},
   "source": [
    "Compute rmse"
   ]
  },
  {
   "cell_type": "code",
   "execution_count": 23,
   "metadata": {},
   "outputs": [],
   "source": [
    "create_submission_from_prediction(final_result, \"out-test-14models-spe.csv\")"
   ]
  },
  {
   "cell_type": "code",
   "execution_count": null,
   "metadata": {},
   "outputs": [],
   "source": []
  },
  {
   "cell_type": "code",
   "execution_count": null,
   "metadata": {},
   "outputs": [],
   "source": []
  }
 ],
 "metadata": {
  "kernelspec": {
   "display_name": "Python [default]",
   "language": "python",
   "name": "python3"
  },
  "language_info": {
   "codemirror_mode": {
    "name": "ipython",
    "version": 3
   },
   "file_extension": ".py",
   "mimetype": "text/x-python",
   "name": "python",
   "nbconvert_exporter": "python",
   "pygments_lexer": "ipython3",
   "version": "3.7.0"
  }
 },
 "nbformat": 4,
 "nbformat_minor": 2
}
