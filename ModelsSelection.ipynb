{
 "cells": [
  {
   "cell_type": "code",
   "execution_count": 102,
   "metadata": {},
   "outputs": [],
   "source": [
    "import pickle\n",
    "import numpy as np\n",
    "import pandas as pd"
   ]
  },
  {
   "cell_type": "code",
   "execution_count": 103,
   "metadata": {},
   "outputs": [],
   "source": [
    "class Model:\n",
    "    name = ''\n",
    "    rmse = 0.0\n",
    "    model = ''\n",
    "    final_model = ''"
   ]
  },
  {
   "cell_type": "markdown",
   "metadata": {},
   "source": [
    "## Load the models"
   ]
  },
  {
   "cell_type": "code",
   "execution_count": 104,
   "metadata": {},
   "outputs": [],
   "source": [
    "labels = pickle.load(open('models/labels.pkl', 'rb'))\n",
    "\n",
    "baseline = Model()\n",
    "baseline.name = 'baseline'\n",
    "baseline.model = pickle.load(open('models/baseline.pkl', 'rb'))\n",
    "baseline.final_model = pickle.load(open('final_models/baseline_final.pkl', 'rb'))\n",
    "\n",
    "bsknn = Model()\n",
    "bsknn.name = 'bsknn'\n",
    "bsknn.model = pickle.load(open('models/bsknn.pkl', 'rb'))\n",
    "bsknn.final_model = pickle.load(open('final_models/bsknn_final.pkl', 'rb'))\n",
    "\n",
    "so = Model()\n",
    "so.name = 'so'\n",
    "so.model = pickle.load(open('models/so.pkl', 'rb'))\n",
    "so.final_model = pickle.load(open('final_models/so_final.pkl', 'rb'))\n",
    "\n",
    "svd = Model()\n",
    "svd.name = 'svd'\n",
    "svd.model = pickle.load(open('models/svd.pkl', 'rb'))\n",
    "svd.final_model = pickle.load(open('final_models/svd_final.pkl', 'rb'))\n",
    "\n",
    "als = Model()\n",
    "als.name = 'als'\n",
    "als.model = pickle.load(open('models/als.pkl', 'rb'))\n",
    "als.final_model = pickle.load(open('final_models/als_final.pkl', 'rb'))\n",
    "\n",
    "sgd = Model()\n",
    "sgd.name = 'sgd'\n",
    "sgd.model = pickle.load(open('models/sgd.pkl', 'rb'))\n",
    "sgd.final_model = pickle.load(open('final_models/sgd_final.pkl', 'rb'))"
   ]
  },
  {
   "cell_type": "code",
   "execution_count": 105,
   "metadata": {},
   "outputs": [],
   "source": [
    "trainset = pickle.load(open('models/trainset.pkl', 'rb'))\n",
    "testset = pickle.load(open('models/testset.pkl', 'rb'))"
   ]
  },
  {
   "cell_type": "code",
   "execution_count": 107,
   "metadata": {},
   "outputs": [],
   "source": [
    "globalmean = Model()\n",
    "globalmean.name = 'globalmean'\n",
    "globalmean.model = pickle.load(open('models/globalmean.pkl', 'rb'))\n",
    "globalmean.final_model = pickle.load(open('final_models/globalmean_final.pkl', 'rb'))\n",
    "\n",
    "usermean = Model()\n",
    "usermean.name = 'usermean'\n",
    "usermean.model = pickle.load(open('models/usermean.pkl', 'rb'))\n",
    "usermean.final_model = pickle.load(open('final_models/usermean_final.pkl', 'rb'))\n",
    "\n",
    "itemmean = Model()\n",
    "itemmean.name = 'itemmean'\n",
    "itemmean.model = pickle.load(open('models/itemmean.pkl', 'rb'))\n",
    "itemmean.final_model = pickle.load(open('final_models/itemmean_final.pkl', 'rb'))"
   ]
  },
  {
   "cell_type": "code",
   "execution_count": 108,
   "metadata": {},
   "outputs": [
    {
     "data": {
      "text/plain": [
       "array([3.75773196, 3.54      , 4.23021583, ..., 3.26315789, 3.32432432,\n",
       "       4.08196721])"
      ]
     },
     "execution_count": 108,
     "metadata": {},
     "output_type": "execute_result"
    }
   ],
   "source": [
    "itemmean.final_model"
   ]
  },
  {
   "cell_type": "code",
   "execution_count": 110,
   "metadata": {},
   "outputs": [
    {
     "data": {
      "text/plain": [
       "array([4.12968289, 2.74688911, 4.57559919, 3.33154962, 3.51639563])"
      ]
     },
     "execution_count": 110,
     "metadata": {},
     "output_type": "execute_result"
    }
   ],
   "source": [
    "#so.model[0:5]\n",
    "baseline.model[0:5]"
   ]
  },
  {
   "cell_type": "markdown",
   "metadata": {},
   "source": [
    "#### Compute RMSE for each model "
   ]
  },
  {
   "cell_type": "markdown",
   "metadata": {},
   "source": [
    "The ranking of the models will be done from the lower RMSE to the higher"
   ]
  },
  {
   "cell_type": "code",
   "execution_count": 111,
   "metadata": {},
   "outputs": [],
   "source": [
    "def calculate_rmse(real_labels, predictions):\n",
    "    \"\"\"Calculate RMSE.\"\"\"\n",
    "    return np.linalg.norm(real_labels - predictions) / np.sqrt(len(real_labels))"
   ]
  },
  {
   "cell_type": "code",
   "execution_count": 112,
   "metadata": {},
   "outputs": [],
   "source": [
    "models = [globalmean, usermean, itemmean, baseline, bsknn, so, svd, als, sgd]"
   ]
  },
  {
   "cell_type": "code",
   "execution_count": 113,
   "metadata": {},
   "outputs": [],
   "source": [
    "for m in models:\n",
    "    m.rmse = calculate_rmse(labels, m.model)"
   ]
  },
  {
   "cell_type": "code",
   "execution_count": 114,
   "metadata": {},
   "outputs": [],
   "source": [
    "import operator\n",
    "sorted_models = sorted(models, key=operator.attrgetter('rmse'))"
   ]
  },
  {
   "cell_type": "code",
   "execution_count": 115,
   "metadata": {},
   "outputs": [
    {
     "name": "stdout",
     "output_type": "stream",
     "text": [
      "Model als : 0.9847793154728643\n",
      "Model bsknn : 0.9856320314606993\n",
      "Model baseline : 0.99682477632627\n",
      "Model so : 0.9975163718778954\n",
      "Model svd : 0.9985292578511148\n",
      "Model sgd : 1.0225406549501423\n",
      "Model usermean : 1.0287576733249626\n",
      "Model itemmean : 1.092430990841759\n",
      "Model globalmean : 1.1173583797240298\n"
     ]
    }
   ],
   "source": [
    "for m in sorted_models:\n",
    "    print('Model %s : %s' % (m.name,m.rmse))"
   ]
  },
  {
   "cell_type": "markdown",
   "metadata": {},
   "source": [
    "## Find the number of model to put in blending"
   ]
  },
  {
   "cell_type": "code",
   "execution_count": 116,
   "metadata": {},
   "outputs": [
    {
     "name": "stdout",
     "output_type": "stream",
     "text": [
      "With 1 model(s) : 0.9784070018378641\n",
      "With 2 model(s) : 0.9777706647890264\n",
      "With 3 model(s) : 0.9768877348383052\n",
      "With 4 model(s) : 0.9767416302147582\n",
      "With 5 model(s) : 0.9767289333715918\n",
      "With 6 model(s) : 0.9766848503525928\n",
      "With 7 model(s) : 0.9763589283189532\n",
      "With 8 model(s) : 0.9763393117928193\n",
      "With 9 model(s) : 0.9761475400155901\n"
     ]
    }
   ],
   "source": [
    "from sklearn.linear_model import Ridge\n",
    "\n",
    "rmse_evolution = []\n",
    "\n",
    "for i in range(len(sorted_models)):\n",
    "    prediction = []\n",
    "    k_models = sorted_models[0:i+1]\n",
    "    \n",
    "    for m_id, m in enumerate(k_models):\n",
    "        if m_id == 0:\n",
    "            prediction = m.model\n",
    "        else:\n",
    "            prediction = np.vstack((prediction,m.model))\n",
    "        \n",
    "    prediction = pd.DataFrame(prediction)\n",
    "    \n",
    "    if i != 0:\n",
    "        prediction = np.transpose(prediction)\n",
    "    \n",
    "    #print(prediction.shape)\n",
    "    \n",
    "    # Blending\n",
    "    linreg = Ridge(alpha=0.1, fit_intercept=False)\n",
    "    linreg.fit(prediction, labels)\n",
    "    #print(linreg.coef_) # print weight for each model\n",
    "    \n",
    "    rmse = calculate_rmse(labels, prediction.dot(linreg.coef_))\n",
    "    print('With %s model(s) : %s' % (i+1,rmse))\n",
    "    rmse_evolution.append(rmse)\n",
    "    "
   ]
  },
  {
   "cell_type": "code",
   "execution_count": 117,
   "metadata": {},
   "outputs": [
    {
     "data": {
      "text/plain": [
       "[0.9784070018378641,\n",
       " 0.9777706647890264,\n",
       " 0.9768877348383052,\n",
       " 0.9767416302147582,\n",
       " 0.9767289333715918,\n",
       " 0.9766848503525928,\n",
       " 0.9763589283189532,\n",
       " 0.9763393117928193,\n",
       " 0.9761475400155901]"
      ]
     },
     "execution_count": 117,
     "metadata": {},
     "output_type": "execute_result"
    }
   ],
   "source": [
    "rmse_evolution"
   ]
  },
  {
   "cell_type": "code",
   "execution_count": 133,
   "metadata": {},
   "outputs": [
    {
     "data": {
      "image/png": "[encoded data removed]",
      "text/plain": [
       "<Figure size 432x288 with 1 Axes>"
      ]
     },
     "metadata": {},
     "output_type": "display_data"
    }
   ],
   "source": [
    "import matplotlib.pyplot as plt\n",
    "plt.plot(range(len(rmse_evolution)),rmse_evolution)\n",
    "plt.xlabel('Number of model(s)')\n",
    "plt.ylabel('RMSE')\n",
    "\n",
    "plt.grid(True)\n",
    "plt.savefig(\"test.png\", bbox_inches='tight')\n",
    "\n",
    "plt.show()"
   ]
  },
  {
   "cell_type": "code",
   "execution_count": 119,
   "metadata": {},
   "outputs": [],
   "source": [
    "best_nbrmodel = 8"
   ]
  },
  {
   "cell_type": "markdown",
   "metadata": {},
   "source": [
    "## Final Blending"
   ]
  },
  {
   "cell_type": "code",
   "execution_count": 134,
   "metadata": {},
   "outputs": [
    {
     "name": "stdout",
     "output_type": "stream",
     "text": [
      "[ 1.04032424  0.2961305  -0.67350879  0.11267265  0.31748628  0.03738606\n",
      " -0.09065254 -0.20815998  0.19939457]\n"
     ]
    }
   ],
   "source": [
    "from sklearn.linear_model import Ridge\n",
    "\n",
    "prediction = []\n",
    "k_models = sorted_models[0:best_nbrmodel+1]\n",
    "    \n",
    "for m_id, m in enumerate(k_models):\n",
    "    if m_id == 0:\n",
    "        prediction = m.model\n",
    "    else:\n",
    "        prediction = np.vstack((prediction,m.model))\n",
    "        \n",
    "prediction = pd.DataFrame(prediction)\n",
    "    \n",
    "if i != 0:\n",
    "    prediction = np.transpose(prediction)\n",
    "    \n",
    "#print(prediction.shape)\n",
    "    \n",
    "# Blending\n",
    "linreg = Ridge(alpha=0.1, fit_intercept=False)\n",
    "linreg.fit(prediction, labels)\n",
    "print(linreg.coef_) # print weight for each model\n",
    "    \n",
    "rmse = calculate_rmse(labels, prediction.dot(linreg.coef_))"
   ]
  },
  {
   "cell_type": "markdown",
   "metadata": {},
   "source": [
    "#### Final prediction"
   ]
  },
  {
   "cell_type": "code",
   "execution_count": 138,
   "metadata": {},
   "outputs": [
    {
     "name": "stdout",
     "output_type": "stream",
     "text": [
      "(1176952,)\n"
     ]
    }
   ],
   "source": [
    "final_result = []\n",
    "\n",
    "for m_id, m in enumerate(sorted_models):\n",
    "    if m_id == 0:\n",
    "        final_result = linreg.coef_[m_id] * m.final_model\n",
    "    else:\n",
    "        final_result = final_result + linreg.coef_[m_id] * m.final_model\n",
    "\n",
    "print(final_result.shape)"
   ]
  },
  {
   "cell_type": "code",
   "execution_count": null,
   "metadata": {},
   "outputs": [],
   "source": [
    "#result = pred_SGD * linreg.coef_[0] + pred_ALS * linreg.coef_[1] + pred_globalmean * linreg.coef_[2] + pred_usermean * linreg.coef_[3] + pred_itemmean * linreg.coef_[4]"
   ]
  },
  {
   "cell_type": "code",
   "execution_count": 140,
   "metadata": {},
   "outputs": [],
   "source": [
    "from helper import *\n",
    "create_submission_from_prediction(final_result, \"out-test-9models.csv\")"
   ]
  },
  {
   "cell_type": "code",
   "execution_count": null,
   "metadata": {},
   "outputs": [],
   "source": []
  }
 ],
 "metadata": {
  "kernelspec": {
   "display_name": "Python 3",
   "language": "python",
   "name": "python3"
  },
  "language_info": {
   "codemirror_mode": {
    "name": "ipython",
    "version": 3
   },
   "file_extension": ".py",
   "mimetype": "text/x-python",
   "name": "python",
   "nbconvert_exporter": "python",
   "pygments_lexer": "ipython3",
   "version": "3.6.5"
  }
 },
 "nbformat": 4,
 "nbformat_minor": 2
}
