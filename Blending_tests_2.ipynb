{
 "cells": [
  {
   "cell_type": "code",
   "execution_count": 1,
   "metadata": {},
   "outputs": [],
   "source": [
    "import numpy as np\n",
    "import matplotlib.pyplot as plt\n",
    "from helper import *\n",
    "import scipy.sparse as sp\n",
    "from test import load_data_sparse\n",
    "from SGD import * \n",
    "from ALS import *\n",
    "from Visualization import cv_result\n",
    "from sklearn.linear_model import LinearRegression\n",
    "from crossval import *\n",
    "\n",
    "from surprise_models import *\n",
    "from surprise.model_selection import train_test_split"
   ]
  },
  {
   "cell_type": "code",
   "execution_count": 2,
   "metadata": {},
   "outputs": [
    {
     "name": "stdout",
     "output_type": "stream",
     "text": [
      "(1176952, 3)\n"
     ]
    }
   ],
   "source": [
    "data_name = \"data/47b05e70-6076-44e8-96da-2530dc2187de_data_train.csv\"\n",
    "\n",
    "sp_ratings, pd_ratings = load_data_sparse(data_name, False)\n",
    "spr_data = pandas_to_surprise(pd_ratings)\n",
    "\n",
    "print(pd_ratings.shape) # (1176952, 3)"
   ]
  },
  {
   "cell_type": "code",
   "execution_count": 3,
   "metadata": {},
   "outputs": [],
   "source": [
    "trainset, testset = train_test_split(spr_data, test_size=.2)\n",
    "#trainset = spr_data.build_full_trainset()"
   ]
  },
  {
   "cell_type": "code",
   "execution_count": 4,
   "metadata": {},
   "outputs": [],
   "source": [
    "test_name = \"data/sampleSubmission.csv\"\n",
    "_, pd_pred = load_data_sparse(test_name, False)\n",
    "pred = pandas_to_surprise(pd_pred, True)"
   ]
  },
  {
   "cell_type": "markdown",
   "metadata": {},
   "source": [
    "## New surprise models"
   ]
  },
  {
   "cell_type": "code",
   "execution_count": 5,
   "metadata": {
    "scrolled": true
   },
   "outputs": [
    {
     "name": "stdout",
     "output_type": "stream",
     "text": [
      "RMSE: 1.0047\n"
     ]
    }
   ],
   "source": [
    "svd_test, svd_final, rmse = surprise_SVD(trainset, testset, pred)"
   ]
  },
  {
   "cell_type": "code",
   "execution_count": 6,
   "metadata": {},
   "outputs": [
    {
     "name": "stdout",
     "output_type": "stream",
     "text": [
      "RMSE: 0.9988\n"
     ]
    }
   ],
   "source": [
    "so_test, so_final, so_rmse = surprise_slopeOne(trainset, testset, pred)"
   ]
  },
  {
   "cell_type": "code",
   "execution_count": 7,
   "metadata": {},
   "outputs": [],
   "source": [
    "num_features = 40  # K in the lecture notes\n",
    "lambda_user = 0.1\n",
    "lambda_film = 0.1\n",
    "stop_criterion = 1e-3"
   ]
  },
  {
   "cell_type": "code",
   "execution_count": 8,
   "metadata": {},
   "outputs": [
    {
     "name": "stdout",
     "output_type": "stream",
     "text": [
      "learn the matrix factorization using ALS...\n"
     ]
    }
   ],
   "source": [
    "als_test, als_final = ALS_CV(trainset, testset, pred, num_features, lambda_user, lambda_film, stop_criterion)"
   ]
  },
  {
   "cell_type": "code",
   "execution_count": 9,
   "metadata": {},
   "outputs": [],
   "source": [
    "lambda_user = 0.01\n",
    "lambda_film = 0.01"
   ]
  },
  {
   "cell_type": "code",
   "execution_count": 10,
   "metadata": {},
   "outputs": [
    {
     "name": "stdout",
     "output_type": "stream",
     "text": [
      "learn the matrix factorization using SGD...\n"
     ]
    }
   ],
   "source": [
    "sgd_test, sgd_final = matrix_factorization_SGD_CV(trainset, testset, pred, num_features, lambda_user, lambda_film, stop_criterion)"
   ]
  },
  {
   "cell_type": "code",
   "execution_count": null,
   "metadata": {},
   "outputs": [],
   "source": []
  },
  {
   "cell_type": "code",
   "execution_count": 11,
   "metadata": {},
   "outputs": [
    {
     "name": "stdout",
     "output_type": "stream",
     "text": [
      "(235391,)\n",
      "(235391,)\n"
     ]
    }
   ],
   "source": [
    "print(svd_test.shape)\n",
    "print(so_test.shape)"
   ]
  },
  {
   "cell_type": "code",
   "execution_count": null,
   "metadata": {},
   "outputs": [],
   "source": []
  },
  {
   "cell_type": "markdown",
   "metadata": {},
   "source": [
    "Put all the models in one matrix for the blending. This process will allow us to determmine the weight for each model."
   ]
  },
  {
   "cell_type": "code",
   "execution_count": 12,
   "metadata": {},
   "outputs": [
    {
     "data": {
      "text/plain": [
       "(4, 235391)"
      ]
     },
     "execution_count": 12,
     "metadata": {},
     "output_type": "execute_result"
    }
   ],
   "source": [
    "X = [svd_test,so_test,als_test,sgd_test]\n",
    "X = pd.DataFrame(X)\n",
    "X.shape"
   ]
  },
  {
   "cell_type": "code",
   "execution_count": 13,
   "metadata": {},
   "outputs": [
    {
     "data": {
      "text/html": [
       "<div>\n",
       "<style scoped>\n",
       "    .dataframe tbody tr th:only-of-type {\n",
       "        vertical-align: middle;\n",
       "    }\n",
       "\n",
       "    .dataframe tbody tr th {\n",
       "        vertical-align: top;\n",
       "    }\n",
       "\n",
       "    .dataframe thead th {\n",
       "        text-align: right;\n",
       "    }\n",
       "</style>\n",
       "<table border=\"1\" class=\"dataframe\">\n",
       "  <thead>\n",
       "    <tr style=\"text-align: right;\">\n",
       "      <th></th>\n",
       "      <th>0</th>\n",
       "      <th>1</th>\n",
       "      <th>2</th>\n",
       "      <th>3</th>\n",
       "      <th>4</th>\n",
       "      <th>5</th>\n",
       "      <th>6</th>\n",
       "      <th>7</th>\n",
       "      <th>8</th>\n",
       "      <th>9</th>\n",
       "      <th>...</th>\n",
       "      <th>235381</th>\n",
       "      <th>235382</th>\n",
       "      <th>235383</th>\n",
       "      <th>235384</th>\n",
       "      <th>235385</th>\n",
       "      <th>235386</th>\n",
       "      <th>235387</th>\n",
       "      <th>235388</th>\n",
       "      <th>235389</th>\n",
       "      <th>235390</th>\n",
       "    </tr>\n",
       "  </thead>\n",
       "  <tbody>\n",
       "    <tr>\n",
       "      <th>0</th>\n",
       "      <td>3.846320</td>\n",
       "      <td>3.572313</td>\n",
       "      <td>4.084354</td>\n",
       "      <td>4.402332</td>\n",
       "      <td>3.742119</td>\n",
       "      <td>3.895190</td>\n",
       "      <td>2.778090</td>\n",
       "      <td>3.518556</td>\n",
       "      <td>4.656772</td>\n",
       "      <td>4.189647</td>\n",
       "      <td>...</td>\n",
       "      <td>4.440764</td>\n",
       "      <td>3.531467</td>\n",
       "      <td>3.375847</td>\n",
       "      <td>4.464314</td>\n",
       "      <td>3.418055</td>\n",
       "      <td>3.589066</td>\n",
       "      <td>3.647223</td>\n",
       "      <td>4.048169</td>\n",
       "      <td>4.088891</td>\n",
       "      <td>3.856305</td>\n",
       "    </tr>\n",
       "    <tr>\n",
       "      <th>1</th>\n",
       "      <td>4.080212</td>\n",
       "      <td>4.026579</td>\n",
       "      <td>4.110219</td>\n",
       "      <td>4.355211</td>\n",
       "      <td>4.007597</td>\n",
       "      <td>3.721890</td>\n",
       "      <td>2.990691</td>\n",
       "      <td>3.238610</td>\n",
       "      <td>4.746690</td>\n",
       "      <td>4.414452</td>\n",
       "      <td>...</td>\n",
       "      <td>4.568825</td>\n",
       "      <td>3.885620</td>\n",
       "      <td>3.586539</td>\n",
       "      <td>4.203199</td>\n",
       "      <td>3.690015</td>\n",
       "      <td>3.499964</td>\n",
       "      <td>3.708861</td>\n",
       "      <td>3.913917</td>\n",
       "      <td>4.205402</td>\n",
       "      <td>3.663710</td>\n",
       "    </tr>\n",
       "    <tr>\n",
       "      <th>2</th>\n",
       "      <td>3.665994</td>\n",
       "      <td>3.729448</td>\n",
       "      <td>4.010474</td>\n",
       "      <td>4.162216</td>\n",
       "      <td>3.883843</td>\n",
       "      <td>3.817786</td>\n",
       "      <td>3.470983</td>\n",
       "      <td>3.306738</td>\n",
       "      <td>4.532386</td>\n",
       "      <td>4.349971</td>\n",
       "      <td>...</td>\n",
       "      <td>4.431613</td>\n",
       "      <td>3.454259</td>\n",
       "      <td>3.474649</td>\n",
       "      <td>4.188209</td>\n",
       "      <td>3.314951</td>\n",
       "      <td>3.449810</td>\n",
       "      <td>3.606368</td>\n",
       "      <td>3.772140</td>\n",
       "      <td>4.247616</td>\n",
       "      <td>3.739809</td>\n",
       "    </tr>\n",
       "    <tr>\n",
       "      <th>3</th>\n",
       "      <td>4.159983</td>\n",
       "      <td>4.137781</td>\n",
       "      <td>4.313875</td>\n",
       "      <td>4.890797</td>\n",
       "      <td>3.927839</td>\n",
       "      <td>3.771009</td>\n",
       "      <td>3.049953</td>\n",
       "      <td>2.952903</td>\n",
       "      <td>4.675364</td>\n",
       "      <td>4.368986</td>\n",
       "      <td>...</td>\n",
       "      <td>4.504977</td>\n",
       "      <td>3.867032</td>\n",
       "      <td>3.502169</td>\n",
       "      <td>4.034563</td>\n",
       "      <td>3.648357</td>\n",
       "      <td>3.411801</td>\n",
       "      <td>3.248809</td>\n",
       "      <td>3.487351</td>\n",
       "      <td>4.195520</td>\n",
       "      <td>3.523803</td>\n",
       "    </tr>\n",
       "  </tbody>\n",
       "</table>\n",
       "<p>4 rows × 235391 columns</p>\n",
       "</div>"
      ],
      "text/plain": [
       "     0         1         2         3         4         5         6       \\\n",
       "0  3.846320  3.572313  4.084354  4.402332  3.742119  3.895190  2.778090   \n",
       "1  4.080212  4.026579  4.110219  4.355211  4.007597  3.721890  2.990691   \n",
       "2  3.665994  3.729448  4.010474  4.162216  3.883843  3.817786  3.470983   \n",
       "3  4.159983  4.137781  4.313875  4.890797  3.927839  3.771009  3.049953   \n",
       "\n",
       "     7         8         9         ...       235381    235382    235383  \\\n",
       "0  3.518556  4.656772  4.189647    ...     4.440764  3.531467  3.375847   \n",
       "1  3.238610  4.746690  4.414452    ...     4.568825  3.885620  3.586539   \n",
       "2  3.306738  4.532386  4.349971    ...     4.431613  3.454259  3.474649   \n",
       "3  2.952903  4.675364  4.368986    ...     4.504977  3.867032  3.502169   \n",
       "\n",
       "     235384    235385    235386    235387    235388    235389    235390  \n",
       "0  4.464314  3.418055  3.589066  3.647223  4.048169  4.088891  3.856305  \n",
       "1  4.203199  3.690015  3.499964  3.708861  3.913917  4.205402  3.663710  \n",
       "2  4.188209  3.314951  3.449810  3.606368  3.772140  4.247616  3.739809  \n",
       "3  4.034563  3.648357  3.411801  3.248809  3.487351  4.195520  3.523803  \n",
       "\n",
       "[4 rows x 235391 columns]"
      ]
     },
     "execution_count": 13,
     "metadata": {},
     "output_type": "execute_result"
    }
   ],
   "source": [
    "X.head()"
   ]
  },
  {
   "cell_type": "code",
   "execution_count": null,
   "metadata": {},
   "outputs": [],
   "source": []
  },
  {
   "cell_type": "markdown",
   "metadata": {},
   "source": [
    "## Blending"
   ]
  },
  {
   "cell_type": "code",
   "execution_count": 14,
   "metadata": {},
   "outputs": [],
   "source": [
    "_,_,y = get_testset_indices(testset)"
   ]
  },
  {
   "cell_type": "code",
   "execution_count": 15,
   "metadata": {},
   "outputs": [
    {
     "data": {
      "text/plain": [
       "tuple"
      ]
     },
     "execution_count": 15,
     "metadata": {},
     "output_type": "execute_result"
    }
   ],
   "source": [
    "type(y)"
   ]
  },
  {
   "cell_type": "code",
   "execution_count": 16,
   "metadata": {},
   "outputs": [
    {
     "data": {
      "text/html": [
       "<div>\n",
       "<style scoped>\n",
       "    .dataframe tbody tr th:only-of-type {\n",
       "        vertical-align: middle;\n",
       "    }\n",
       "\n",
       "    .dataframe tbody tr th {\n",
       "        vertical-align: top;\n",
       "    }\n",
       "\n",
       "    .dataframe thead th {\n",
       "        text-align: right;\n",
       "    }\n",
       "</style>\n",
       "<table border=\"1\" class=\"dataframe\">\n",
       "  <thead>\n",
       "    <tr style=\"text-align: right;\">\n",
       "      <th></th>\n",
       "      <th>0</th>\n",
       "      <th>1</th>\n",
       "      <th>2</th>\n",
       "      <th>3</th>\n",
       "    </tr>\n",
       "  </thead>\n",
       "  <tbody>\n",
       "    <tr>\n",
       "      <th>0</th>\n",
       "      <td>3.846320</td>\n",
       "      <td>4.080212</td>\n",
       "      <td>3.665994</td>\n",
       "      <td>4.159983</td>\n",
       "    </tr>\n",
       "    <tr>\n",
       "      <th>1</th>\n",
       "      <td>3.572313</td>\n",
       "      <td>4.026579</td>\n",
       "      <td>3.729448</td>\n",
       "      <td>4.137781</td>\n",
       "    </tr>\n",
       "    <tr>\n",
       "      <th>2</th>\n",
       "      <td>4.084354</td>\n",
       "      <td>4.110219</td>\n",
       "      <td>4.010474</td>\n",
       "      <td>4.313875</td>\n",
       "    </tr>\n",
       "    <tr>\n",
       "      <th>3</th>\n",
       "      <td>4.402332</td>\n",
       "      <td>4.355211</td>\n",
       "      <td>4.162216</td>\n",
       "      <td>4.890797</td>\n",
       "    </tr>\n",
       "    <tr>\n",
       "      <th>4</th>\n",
       "      <td>3.742119</td>\n",
       "      <td>4.007597</td>\n",
       "      <td>3.883843</td>\n",
       "      <td>3.927839</td>\n",
       "    </tr>\n",
       "  </tbody>\n",
       "</table>\n",
       "</div>"
      ],
      "text/plain": [
       "          0         1         2         3\n",
       "0  3.846320  4.080212  3.665994  4.159983\n",
       "1  3.572313  4.026579  3.729448  4.137781\n",
       "2  4.084354  4.110219  4.010474  4.313875\n",
       "3  4.402332  4.355211  4.162216  4.890797\n",
       "4  3.742119  4.007597  3.883843  3.927839"
      ]
     },
     "execution_count": 16,
     "metadata": {},
     "output_type": "execute_result"
    }
   ],
   "source": [
    "#X = np.transpose(prediction)\n",
    "X = np.transpose(X)\n",
    "X[0:5]"
   ]
  },
  {
   "cell_type": "markdown",
   "metadata": {},
   "source": [
    "#### Linear Regression"
   ]
  },
  {
   "cell_type": "code",
   "execution_count": 17,
   "metadata": {},
   "outputs": [],
   "source": [
    "#clf = LinearRegression()\n",
    "#clf = clf.fit(X, y)\n",
    "#print('Weights of the different models:', clf.coef_)\n",
    "#clf.score(X, y)"
   ]
  },
  {
   "cell_type": "markdown",
   "metadata": {},
   "source": [
    "#### Ridge Regression"
   ]
  },
  {
   "cell_type": "code",
   "execution_count": 18,
   "metadata": {},
   "outputs": [
    {
     "data": {
      "text/plain": [
       "array([ 0.05640034, -0.10239242,  1.05599209,  0.02808248])"
      ]
     },
     "execution_count": 18,
     "metadata": {},
     "output_type": "execute_result"
    }
   ],
   "source": [
    "from sklearn.linear_model import Ridge\n",
    "linreg = Ridge(alpha=0.1, fit_intercept=False)\n",
    "linreg.fit(X, y)\n",
    "linreg.coef_"
   ]
  },
  {
   "cell_type": "code",
   "execution_count": 19,
   "metadata": {
    "scrolled": true
   },
   "outputs": [
    {
     "data": {
      "text/plain": [
       "0.22847488617760003"
      ]
     },
     "execution_count": 19,
     "metadata": {},
     "output_type": "execute_result"
    }
   ],
   "source": [
    "linreg.score(X, y)"
   ]
  },
  {
   "cell_type": "code",
   "execution_count": null,
   "metadata": {},
   "outputs": [],
   "source": []
  },
  {
   "cell_type": "code",
   "execution_count": 20,
   "metadata": {},
   "outputs": [
    {
     "ename": "AttributeError",
     "evalue": "'tuple' object has no attribute 'shape'",
     "output_type": "error",
     "traceback": [
      "\u001b[0;31m---------------------------------------------------------------------------\u001b[0m",
      "\u001b[0;31mAttributeError\u001b[0m                            Traceback (most recent call last)",
      "\u001b[0;32m<ipython-input-20-7fa49d70c4ca>\u001b[0m in \u001b[0;36m<module>\u001b[0;34m()\u001b[0m\n\u001b[1;32m      1\u001b[0m \u001b[0;31m# compute MSE - Blending\u001b[0m\u001b[0;34m\u001b[0m\u001b[0;34m\u001b[0m\u001b[0m\n\u001b[0;32m----> 2\u001b[0;31m \u001b[0msum\u001b[0m\u001b[0;34m(\u001b[0m\u001b[0;34m(\u001b[0m\u001b[0mnp\u001b[0m\u001b[0;34m.\u001b[0m\u001b[0mround\u001b[0m\u001b[0;34m(\u001b[0m\u001b[0mX\u001b[0m\u001b[0;34m.\u001b[0m\u001b[0mdot\u001b[0m\u001b[0;34m(\u001b[0m\u001b[0mlinreg\u001b[0m\u001b[0;34m.\u001b[0m\u001b[0mcoef_\u001b[0m\u001b[0;34m)\u001b[0m\u001b[0;34m)\u001b[0m \u001b[0;34m-\u001b[0m \u001b[0my\u001b[0m\u001b[0;34m)\u001b[0m\u001b[0;34m**\u001b[0m\u001b[0;36m2\u001b[0m\u001b[0;34m)\u001b[0m\u001b[0;34m/\u001b[0m\u001b[0my\u001b[0m\u001b[0;34m.\u001b[0m\u001b[0mshape\u001b[0m\u001b[0;34m[\u001b[0m\u001b[0;36m0\u001b[0m\u001b[0;34m]\u001b[0m\u001b[0;34m\u001b[0m\u001b[0m\n\u001b[0m",
      "\u001b[0;31mAttributeError\u001b[0m: 'tuple' object has no attribute 'shape'"
     ]
    }
   ],
   "source": [
    "# compute MSE - Blending\n",
    "sum((np.round(X.dot(linreg.coef_)) - y)**2)/y.shape[0]"
   ]
  },
  {
   "cell_type": "code",
   "execution_count": null,
   "metadata": {},
   "outputs": [],
   "source": [
    "# compute MSE - SGD\n",
    "sum(np.round(prediction_m[0] - y)**2)/y.shape[0]"
   ]
  },
  {
   "cell_type": "code",
   "execution_count": null,
   "metadata": {},
   "outputs": [],
   "source": [
    "# compute MSE - ALS\n",
    "sum(np.round(prediction_m[1] - y)**2)/y.shape[0]"
   ]
  },
  {
   "cell_type": "code",
   "execution_count": null,
   "metadata": {},
   "outputs": [],
   "source": []
  },
  {
   "cell_type": "markdown",
   "metadata": {},
   "source": [
    "## Manual comparison of ratings"
   ]
  },
  {
   "cell_type": "code",
   "execution_count": 21,
   "metadata": {
    "scrolled": true
   },
   "outputs": [
    {
     "name": "stdout",
     "output_type": "stream",
     "text": [
      "          0         1         2         3\n",
      "0  3.846320  4.080212  3.665994  4.159983\n",
      "1  3.572313  4.026579  3.729448  4.137781\n",
      "2  4.084354  4.110219  4.010474  4.313875\n",
      "3  4.402332  4.355211  4.162216  4.890797\n",
      "4  3.742119  4.007597  3.883843  3.927839\n",
      "5  3.895190  3.721890  3.817786  3.771009\n",
      "6  2.778090  2.990691  3.470983  3.049953\n",
      "7  3.518556  3.238610  3.306738  2.952903\n",
      "8  4.656772  4.746690  4.532386  4.675364\n",
      "9  4.189647  4.414452  4.349971  4.368986\n"
     ]
    }
   ],
   "source": [
    "print(X[0:10])"
   ]
  },
  {
   "cell_type": "code",
   "execution_count": 22,
   "metadata": {},
   "outputs": [
    {
     "name": "stdout",
     "output_type": "stream",
     "text": [
      "(5.0, 5.0, 2.0, 5.0, 5.0, 3.0, 3.0, 4.0, 5.0, 5.0)\n"
     ]
    }
   ],
   "source": [
    "print(y[0:10])"
   ]
  },
  {
   "cell_type": "code",
   "execution_count": 23,
   "metadata": {},
   "outputs": [
    {
     "name": "stdout",
     "output_type": "stream",
     "text": [
      "0    3.787234\n",
      "1    3.843655\n",
      "2    4.165677\n",
      "3    4.334965\n",
      "4    4.012321\n",
      "5    3.976047\n",
      "6    3.601442\n",
      "7    3.441653\n",
      "8    4.694078\n",
      "9    4.500518\n",
      "dtype: float64\n"
     ]
    }
   ],
   "source": [
    "# final result\n",
    "result = X.dot(linreg.coef_)\n",
    "print(result[0:10])"
   ]
  },
  {
   "cell_type": "code",
   "execution_count": null,
   "metadata": {},
   "outputs": [],
   "source": []
  },
  {
   "cell_type": "markdown",
   "metadata": {},
   "source": [
    "## Determine the final prediction \n",
    "<p> This process is done using the previously found weights"
   ]
  },
  {
   "cell_type": "code",
   "execution_count": 24,
   "metadata": {},
   "outputs": [],
   "source": [
    "#[svd_test,so_test,als_test,sgd_test]\n",
    "result = svd_final * linreg.coef_[0] + so_final * linreg.coef_[1] + als_final * linreg.coef_[2] + sgd_final * linreg.coef_[3]"
   ]
  },
  {
   "cell_type": "code",
   "execution_count": 25,
   "metadata": {},
   "outputs": [
    {
     "data": {
      "text/plain": [
       "(1176952,)"
      ]
     },
     "execution_count": 25,
     "metadata": {},
     "output_type": "execute_result"
    }
   ],
   "source": [
    "result.shape"
   ]
  },
  {
   "cell_type": "code",
   "execution_count": null,
   "metadata": {},
   "outputs": [],
   "source": []
  },
  {
   "cell_type": "markdown",
   "metadata": {},
   "source": [
    "## Submission file"
   ]
  },
  {
   "cell_type": "code",
   "execution_count": 26,
   "metadata": {},
   "outputs": [],
   "source": [
    "def create_submission_from_prediction(prediction, output_name):\n",
    "\n",
    "    def prediction_transformed(prediction, ids_process):\n",
    "        \"\"\" return the prediction transformed for the submission \"\"\"\n",
    "        y = []\n",
    "        for i in range(len(ids_process)):\n",
    "            row = ids_process[i][0]\n",
    "            col = ids_process[i][1]\n",
    "            y.append(prediction[row - 1, col - 1])\n",
    "        return y\n",
    "\n",
    "    def create_csv_submission(ids, y_pred, name):\n",
    "        \"\"\"\n",
    "        Creates an output file in csv format for submission to kaggle\n",
    "        Arguments: ids (event ids associated with each prediction)\n",
    "                   y_pred (predicted class labels)\n",
    "                   name (string name of .csv output file to be created)\n",
    "        \"\"\"\n",
    "        with open(name, 'w') as csvfile:\n",
    "            fieldnames = ['Id', 'Prediction']\n",
    "            writer = csv.DictWriter(csvfile, delimiter=\",\", fieldnames=fieldnames)\n",
    "            writer.writeheader()\n",
    "            for r1, r2 in zip(ids, y_pred):\n",
    "                writer.writerow({'Id': str(r1), 'Prediction': float(r2)})\n",
    "\n",
    "    def round(x):\n",
    "        if (x < 1):\n",
    "            return 1\n",
    "        elif (x > 5):\n",
    "            return 5\n",
    "        else:\n",
    "            return x\n",
    "\n",
    "    def transform(ids_txt):\n",
    "        \"\"\" split the text index\"\"\"\n",
    "\n",
    "        def deal_line(line):\n",
    "            pos, rating = line.split(',')\n",
    "            return str(pos)\n",
    "\n",
    "        ids = [deal_line(line) for line in ids_txt]\n",
    "        return ids\n",
    "\n",
    "    prediction = np.vectorize(round)(prediction)\n",
    "\n",
    "    DATA_TEST_PATH = 'data/sampleSubmission.csv'\n",
    "\n",
    "    ids_txt = read_txt(DATA_TEST_PATH)[1:]\n",
    "    ids_process = [deal_line(line) for line in ids_txt]\n",
    "\n",
    "    # prediction under the right format\n",
    "    # y = prediction_transformed(prediction, ids_process)\n",
    "    y = np.vectorize(round)(prediction)\n",
    "    \n",
    "    y = np.rint(y)\n",
    "\n",
    "    ids = transform(ids_txt)\n",
    "    OUTPUT_PATH = output_name\n",
    "    create_csv_submission(ids, y, OUTPUT_PATH)"
   ]
  },
  {
   "cell_type": "code",
   "execution_count": 27,
   "metadata": {},
   "outputs": [],
   "source": [
    "create_submission_from_prediction(result, \"out-4modelsurprise.csv\")"
   ]
  },
  {
   "cell_type": "code",
   "execution_count": null,
   "metadata": {},
   "outputs": [],
   "source": []
  },
  {
   "cell_type": "code",
   "execution_count": null,
   "metadata": {},
   "outputs": [],
   "source": []
  },
  {
   "cell_type": "code",
   "execution_count": null,
   "metadata": {},
   "outputs": [],
   "source": []
  },
  {
   "cell_type": "code",
   "execution_count": null,
   "metadata": {},
   "outputs": [],
   "source": []
  },
  {
   "cell_type": "code",
   "execution_count": null,
   "metadata": {},
   "outputs": [],
   "source": []
  },
  {
   "cell_type": "markdown",
   "metadata": {},
   "source": [
    "#### 17 décembre 19:51"
   ]
  },
  {
   "cell_type": "markdown",
   "metadata": {},
   "source": [
    "With : trainset, testset = train_test_split(spr_data, test_size=.2)\n",
    "<p> And : X = [svd_test,so_test,als_test,sgd_test]\n",
    "<p> ==> Weights (Ridge Regression, alpha=0.1) : array([ 0.05640034, -0.10239242,  1.05599209,  0.02808248])\n",
    "<P>    \n",
    "<p> RMSE : 1.025"
   ]
  },
  {
   "cell_type": "code",
   "execution_count": null,
   "metadata": {},
   "outputs": [],
   "source": []
  },
  {
   "cell_type": "code",
   "execution_count": null,
   "metadata": {},
   "outputs": [],
   "source": []
  },
  {
   "cell_type": "code",
   "execution_count": null,
   "metadata": {},
   "outputs": [],
   "source": []
  }
 ],
 "metadata": {
  "kernelspec": {
   "display_name": "Python 3",
   "language": "python",
   "name": "python3"
  },
  "language_info": {
   "codemirror_mode": {
    "name": "ipython",
    "version": 3
   },
   "file_extension": ".py",
   "mimetype": "text/x-python",
   "name": "python",
   "nbconvert_exporter": "python",
   "pygments_lexer": "ipython3",
   "version": "3.6.5"
  }
 },
 "nbformat": 4,
 "nbformat_minor": 2
}
