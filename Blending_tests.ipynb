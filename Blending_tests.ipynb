{
 "cells": [
  {
   "cell_type": "code",
   "execution_count": 1,
   "metadata": {},
   "outputs": [],
   "source": [
    "import numpy as np\n",
    "import matplotlib.pyplot as plt\n",
    "from helper import *\n",
    "import scipy.sparse as sp\n",
    "from test import load_data_sparse\n",
    "from SGD import * \n",
    "from ALS import *\n",
    "from Visualization import cv_result\n",
    "from sklearn.linear_model import LinearRegression\n",
    "from crossval import *"
   ]
  },
  {
   "cell_type": "code",
   "execution_count": 40,
   "metadata": {},
   "outputs": [],
   "source": [
    "pred_lst = []"
   ]
  },
  {
   "cell_type": "code",
   "execution_count": 3,
   "metadata": {},
   "outputs": [
    {
     "name": "stdout",
     "output_type": "stream",
     "text": [
      "(1176952, 3)\n"
     ]
    }
   ],
   "source": [
    "data_name = \"data/47b05e70-6076-44e8-96da-2530dc2187de_data_train.csv\"\n",
    "\n",
    "ratings, pandas = load_data_sparse(data_name, False)\n",
    "\n",
    "print(pandas.shape) # (1176952, 3)\n",
    "\n",
    "stop_criterion = 1e-4\n",
    "prediction = []\n",
    "pred_lst = []"
   ]
  },
  {
   "cell_type": "code",
   "execution_count": 5,
   "metadata": {},
   "outputs": [
    {
     "name": "stdout",
     "output_type": "stream",
     "text": [
      "learn the matrix factorization using SGD...\n"
     ]
    }
   ],
   "source": [
    "# SGD\n",
    "nb_feature = 40\n",
    "lambda_ = 0.01\n",
    "pred_SGD, _, _ = matrix_factorization_SGD_CV(ratings, nb_feature, lambda_, lambda_, stop_criterion)\n"
   ]
  },
  {
   "cell_type": "code",
   "execution_count": 41,
   "metadata": {},
   "outputs": [
    {
     "name": "stdout",
     "output_type": "stream",
     "text": [
      "<class 'numpy.ndarray'>\n",
      "1\n"
     ]
    }
   ],
   "source": [
    "print(type(pred_SGD))\n",
    "pred_lst.append(pred_SGD)\n",
    "print(len(pred_lst))"
   ]
  },
  {
   "cell_type": "code",
   "execution_count": null,
   "metadata": {},
   "outputs": [
    {
     "name": "stdout",
     "output_type": "stream",
     "text": [
      "learn the matrix factorization using ALS...\n"
     ]
    }
   ],
   "source": [
    "# ALS\n",
    "nb_feature = 40\n",
    "lambda_ = 0.1\n",
    "pred_ALS, _, _ = ALS_CV(ratings, nb_feature, lambda_, lambda_, stop_criterion)\n"
   ]
  },
  {
   "cell_type": "code",
   "execution_count": null,
   "metadata": {},
   "outputs": [],
   "source": [
    "pred_lst.append(pred_ALS)\n",
    "print(len(pred_lst))"
   ]
  },
  {
   "cell_type": "code",
   "execution_count": null,
   "metadata": {},
   "outputs": [],
   "source": [
    "pred_lst_2 = pred_lst.copy()"
   ]
  },
  {
   "cell_type": "code",
   "execution_count": null,
   "metadata": {},
   "outputs": [],
   "source": [
    "len(pred_lst_2)"
   ]
  },
  {
   "cell_type": "code",
   "execution_count": null,
   "metadata": {},
   "outputs": [],
   "source": [
    "simple_models = False"
   ]
  },
  {
   "cell_type": "code",
   "execution_count": null,
   "metadata": {},
   "outputs": [],
   "source": [
    "if simple_models:\n",
    "    # simple_models\n",
    "    from simple_models import *\n",
    "    print(\"learn global mean\")\n",
    "    pred_globalmean =  global_mean(ratings, 0)\n",
    "    print(pred_globalmean.shape)\n",
    "    pred_lst.append(pred_globalmean)\n",
    "\n",
    "    print(\"learn user mean\")\n",
    "    pred_usermean = user_mean(ratings, 0)\n",
    "    print(pred_usermean.shape)\n",
    "    pred_lst.append(pred_usermean)\n",
    "\n",
    "    print(\"learn item mean\")\n",
    "    pred_itemmean = baseline_item_mean(ratings, 0)\n",
    "    print(pred_itemmean.shape)\n",
    "    pred_lst.append(pred_itemmean)"
   ]
  },
  {
   "cell_type": "code",
   "execution_count": null,
   "metadata": {},
   "outputs": [],
   "source": [
    "def prepareBlending(ratings, list_pred):\n",
    "    # determine position of given ratings\n",
    "    nonzero_row, nonzero_col = ratings.nonzero()\n",
    "    nonzero_train = list(zip(nonzero_row, nonzero_col))\n",
    "    \n",
    "    prediction = []\n",
    "    prediction_model = []\n",
    "    \n",
    "    for pred_id, pred in enumerate(list_pred):\n",
    "        print(pred_id)\n",
    "        \n",
    "        print(pred.shape)\n",
    "        \n",
    "        pred_tmp = []\n",
    "        for i in nonzero_train:\n",
    "            pred_tmp.append(pred.item(i))\n",
    "\n",
    "        print(len(pred_tmp)) # (1176952)\n",
    "        #print(type(pred_tmp))\n",
    "        \n",
    "        prediction_model.append(pred_tmp)\n",
    "    \n",
    "        if pred_id == 0:\n",
    "            #prediction_model = pred_tmp\n",
    "            prediction = pred_tmp\n",
    "        else:\n",
    "            prediction = np.vstack((prediction,pred_tmp))\n",
    "            \n",
    "        \n",
    "        print(len(prediction))\n",
    "        print(type(prediction))\n",
    "        \n",
    "    return prediction_model, prediction"
   ]
  },
  {
   "cell_type": "code",
   "execution_count": null,
   "metadata": {},
   "outputs": [],
   "source": [
    "prediction_m, prediction = prepareBlending(ratings, pred_lst)\n",
    "print(prediction.shape)\n",
    "print(len(prediction_m))"
   ]
  },
  {
   "cell_type": "code",
   "execution_count": null,
   "metadata": {},
   "outputs": [],
   "source": []
  },
  {
   "cell_type": "code",
   "execution_count": null,
   "metadata": {},
   "outputs": [],
   "source": []
  },
  {
   "cell_type": "code",
   "execution_count": null,
   "metadata": {},
   "outputs": [],
   "source": []
  },
  {
   "cell_type": "code",
   "execution_count": null,
   "metadata": {},
   "outputs": [],
   "source": []
  },
  {
   "cell_type": "code",
   "execution_count": 35,
   "metadata": {},
   "outputs": [
    {
     "data": {
      "text/plain": [
       "0    4\n",
       "1    3\n",
       "2    4\n",
       "3    3\n",
       "4    5\n",
       "Name: Rating, dtype: int64"
      ]
     },
     "execution_count": 35,
     "metadata": {},
     "output_type": "execute_result"
    }
   ],
   "source": [
    "#pandas.head()\n",
    "y = pandas['Rating']\n",
    "y.head()"
   ]
  },
  {
   "cell_type": "code",
   "execution_count": 36,
   "metadata": {},
   "outputs": [],
   "source": [
    "## Blending function\n",
    "X = np.transpose(prediction)\n",
    "#clf = LinearRegression()\n",
    "#clf = clf.fit(X, y)\n",
    "#print('Weights of the different models:', clf.coef_)\n",
    "#clf.score(X, y)"
   ]
  },
  {
   "cell_type": "code",
   "execution_count": 37,
   "metadata": {},
   "outputs": [
    {
     "data": {
      "text/plain": [
       "array([[3.80625846, 4.01566581, 3.8572805 , 3.6460717 , 4.04347826],\n",
       "       [3.91891856, 4.03649244, 3.8572805 , 3.88483374, 4.04347826],\n",
       "       [3.40215908, 3.56430465, 3.8572805 , 3.50505051, 4.04347826],\n",
       "       [4.42462316, 3.97617039, 3.8572805 , 4.17531798, 4.04347826],\n",
       "       [4.1365401 , 3.54129924, 3.8572805 , 3.97449909, 4.04347826]])"
      ]
     },
     "execution_count": 37,
     "metadata": {},
     "output_type": "execute_result"
    }
   ],
   "source": [
    "X[0:5]"
   ]
  },
  {
   "cell_type": "code",
   "execution_count": 38,
   "metadata": {},
   "outputs": [
    {
     "data": {
      "text/plain": [
       "array([ 0.00420797, -0.01816525,  0.98769168,  0.01037689,  0.01541129])"
      ]
     },
     "execution_count": 38,
     "metadata": {},
     "output_type": "execute_result"
    }
   ],
   "source": [
    "from sklearn.linear_model import Ridge\n",
    "linreg = Ridge(alpha=0.1, fit_intercept=False)\n",
    "linreg.fit(X, y)\n",
    "linreg.coef_"
   ]
  },
  {
   "cell_type": "code",
   "execution_count": 20,
   "metadata": {
    "scrolled": true
   },
   "outputs": [
    {
     "data": {
      "text/plain": [
       "-0.22188844039749542"
      ]
     },
     "execution_count": 20,
     "metadata": {},
     "output_type": "execute_result"
    }
   ],
   "source": [
    "linreg.score(X, y)"
   ]
  },
  {
   "cell_type": "code",
   "execution_count": null,
   "metadata": {},
   "outputs": [],
   "source": []
  },
  {
   "cell_type": "code",
   "execution_count": null,
   "metadata": {},
   "outputs": [],
   "source": []
  },
  {
   "cell_type": "code",
   "execution_count": 21,
   "metadata": {},
   "outputs": [
    {
     "data": {
      "text/plain": [
       "1.5979589651914436"
      ]
     },
     "execution_count": 21,
     "metadata": {},
     "output_type": "execute_result"
    }
   ],
   "source": [
    "# compute MSE - Blending\n",
    "sum((np.round(X.dot(linreg.coef_)) - y)**2)/y.shape[0]"
   ]
  },
  {
   "cell_type": "code",
   "execution_count": 22,
   "metadata": {},
   "outputs": [
    {
     "data": {
      "text/plain": [
       "1.6271810575112664"
      ]
     },
     "execution_count": 22,
     "metadata": {},
     "output_type": "execute_result"
    }
   ],
   "source": [
    "# compute MSE - SGD\n",
    "sum(np.round(prediction_m[0] - y)**2)/y.shape[0]"
   ]
  },
  {
   "cell_type": "code",
   "execution_count": 23,
   "metadata": {},
   "outputs": [
    {
     "data": {
      "text/plain": [
       "1.6172902548277246"
      ]
     },
     "execution_count": 23,
     "metadata": {},
     "output_type": "execute_result"
    }
   ],
   "source": [
    "# compute MSE - ALS\n",
    "sum(np.round(prediction_m[1] - y)**2)/y.shape[0]"
   ]
  },
  {
   "cell_type": "code",
   "execution_count": null,
   "metadata": {},
   "outputs": [],
   "source": []
  },
  {
   "cell_type": "code",
   "execution_count": null,
   "metadata": {},
   "outputs": [],
   "source": []
  },
  {
   "cell_type": "code",
   "execution_count": null,
   "metadata": {},
   "outputs": [],
   "source": []
  },
  {
   "cell_type": "code",
   "execution_count": 24,
   "metadata": {
    "scrolled": true
   },
   "outputs": [
    {
     "name": "stdout",
     "output_type": "stream",
     "text": [
      "[[3.80625846 4.01566581]\n",
      " [3.91891856 4.03649244]\n",
      " [3.40215908 3.56430465]\n",
      " [4.42462316 3.97617039]\n",
      " [4.1365401  3.54129924]\n",
      " [4.49552297 4.49756498]\n",
      " [4.08698875 4.06725252]\n",
      " [4.35256245 4.02152454]\n",
      " [3.66249213 3.5141004 ]\n",
      " [3.81558051 3.25561355]]\n"
     ]
    }
   ],
   "source": [
    "print(X[0:10])"
   ]
  },
  {
   "cell_type": "code",
   "execution_count": 25,
   "metadata": {},
   "outputs": [
    {
     "name": "stdout",
     "output_type": "stream",
     "text": [
      "0    4\n",
      "1    3\n",
      "2    4\n",
      "3    3\n",
      "4    5\n",
      "5    4\n",
      "6    3\n",
      "7    3\n",
      "8    2\n",
      "9    5\n",
      "Name: Rating, dtype: int64\n"
     ]
    }
   ],
   "source": [
    "print(y[0:10])"
   ]
  },
  {
   "cell_type": "code",
   "execution_count": 26,
   "metadata": {},
   "outputs": [
    {
     "name": "stdout",
     "output_type": "stream",
     "text": [
      "[3.90589547 3.96783546 3.477515   4.16166453 3.79435545 4.47891646\n",
      " 4.06007006 4.15416886 3.56681228 3.49397265]\n"
     ]
    }
   ],
   "source": [
    "# final result\n",
    "result = X.dot(linreg.coef_)\n",
    "print(result[0:10])"
   ]
  },
  {
   "cell_type": "code",
   "execution_count": 27,
   "metadata": {},
   "outputs": [
    {
     "name": "stdout",
     "output_type": "stream",
     "text": [
      "(1176952,)\n"
     ]
    }
   ],
   "source": [
    "print(result.shape)"
   ]
  },
  {
   "cell_type": "code",
   "execution_count": null,
   "metadata": {},
   "outputs": [],
   "source": []
  },
  {
   "cell_type": "code",
   "execution_count": 28,
   "metadata": {},
   "outputs": [],
   "source": [
    "if simple_models:\n",
    "    result = pred_SGD * linreg.coef_[0] + pred_ALS * linreg.coef_[1] + pred_globalmean * linreg.coef_[2] + pred_usermean * linreg.coef_[3] + pred_itemmean * linreg.coef_[4]\n",
    "else:\n",
    "    result = pred_SGD * linreg.coef_[0] + pred_ALS * linreg.coef_[1]\n",
    "        \n",
    "    "
   ]
  },
  {
   "cell_type": "code",
   "execution_count": 23,
   "metadata": {},
   "outputs": [],
   "source": [
    "#result = pred_SGD * linreg.coef_[0] + pred_ALS * linreg.coef_[1]"
   ]
  },
  {
   "cell_type": "code",
   "execution_count": 44,
   "metadata": {},
   "outputs": [],
   "source": [
    "#result = pred_SGD * linreg.coef_[0] + pred_ALS * linreg.coef_[1] + pred_globalmean * linreg.coef_[2] + pred_usermean * linreg.coef_[3] + pred_itemmean * linreg.coef_[4]"
   ]
  },
  {
   "cell_type": "code",
   "execution_count": 29,
   "metadata": {},
   "outputs": [
    {
     "data": {
      "text/plain": [
       "(10000, 1000)"
      ]
     },
     "execution_count": 29,
     "metadata": {},
     "output_type": "execute_result"
    }
   ],
   "source": [
    "result.shape"
   ]
  },
  {
   "cell_type": "code",
   "execution_count": 30,
   "metadata": {},
   "outputs": [],
   "source": [
    "if simple_models:\n",
    "    create_submission_from_prediction(result, \"out5-0.1.csv\")\n",
    "else:\n",
    "    create_submission_from_prediction(result, \"out2-0.1.csv\")"
   ]
  },
  {
   "cell_type": "code",
   "execution_count": null,
   "metadata": {},
   "outputs": [],
   "source": []
  },
  {
   "cell_type": "code",
   "execution_count": 39,
   "metadata": {},
   "outputs": [],
   "source": [
    "create_submission_from_prediction(pred_ALS, \"out-onlyALS.csv\")"
   ]
  },
  {
   "cell_type": "code",
   "execution_count": null,
   "metadata": {},
   "outputs": [],
   "source": []
  }
 ],
 "metadata": {
  "kernelspec": {
   "display_name": "Python 3",
   "language": "python",
   "name": "python3"
  },
  "language_info": {
   "codemirror_mode": {
    "name": "ipython",
    "version": 3
   },
   "file_extension": ".py",
   "mimetype": "text/x-python",
   "name": "python",
   "nbconvert_exporter": "python",
   "pygments_lexer": "ipython3",
   "version": "3.6.5"
  }
 },
 "nbformat": 4,
 "nbformat_minor": 2
}
