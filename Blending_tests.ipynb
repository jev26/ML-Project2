{
 "cells": [
  {
   "cell_type": "code",
   "execution_count": 1,
   "metadata": {},
   "outputs": [],
   "source": [
    "import numpy as np\n",
    "import matplotlib.pyplot as plt\n",
    "from helper import *\n",
    "import scipy.sparse as sp\n",
    "from test import load_data_sparse\n",
    "from SGD import * \n",
    "from ALS import *\n",
    "from Visualization import cv_result\n",
    "from sklearn.linear_model import LinearRegression\n",
    "from crossval import *"
   ]
  },
  {
   "cell_type": "code",
   "execution_count": 2,
   "metadata": {},
   "outputs": [],
   "source": [
    "pred_lst = []"
   ]
  },
  {
   "cell_type": "code",
   "execution_count": 3,
   "metadata": {},
   "outputs": [
    {
     "name": "stdout",
     "output_type": "stream",
     "text": [
      "(1176952, 3)\n"
     ]
    }
   ],
   "source": [
    "data_name = \"data/47b05e70-6076-44e8-96da-2530dc2187de_data_train.csv\"\n",
    "\n",
    "ratings, pandas = load_data_sparse(data_name, False)\n",
    "\n",
    "print(pandas.shape) # (1176952, 3)\n",
    "\n",
    "stop_criterion = 1e-4\n",
    "prediction = []\n",
    "pred_lst = []"
   ]
  },
  {
   "cell_type": "code",
   "execution_count": 25,
   "metadata": {},
   "outputs": [
    {
     "name": "stdout",
     "output_type": "stream",
     "text": [
      "learn the matrix factorization using SGD...\n"
     ]
    }
   ],
   "source": [
    "# SGD\n",
    "nb_feature = 40\n",
    "lambda_ = 0.01\n",
    "pred_SGD, _, _ = matrix_factorization_SGD_CV(ratings, nb_feature, lambda_, lambda_, stop_criterion)\n"
   ]
  },
  {
   "cell_type": "code",
   "execution_count": 26,
   "metadata": {},
   "outputs": [
    {
     "name": "stdout",
     "output_type": "stream",
     "text": [
      "<class 'numpy.ndarray'>\n",
      "1\n"
     ]
    }
   ],
   "source": [
    "print(type(pred_SGD))\n",
    "pred_lst.append(pred_SGD)\n",
    "print(len(pred_lst))"
   ]
  },
  {
   "cell_type": "code",
   "execution_count": 27,
   "metadata": {},
   "outputs": [
    {
     "name": "stdout",
     "output_type": "stream",
     "text": [
      "learn the matrix factorization using ALS...\n"
     ]
    }
   ],
   "source": [
    "# ALS\n",
    "nb_feature = 40\n",
    "lambda_ = 0.1\n",
    "pred_ALS, _, _ = ALS_CV(ratings, nb_feature, lambda_, lambda_, stop_criterion)\n"
   ]
  },
  {
   "cell_type": "code",
   "execution_count": 28,
   "metadata": {},
   "outputs": [
    {
     "name": "stdout",
     "output_type": "stream",
     "text": [
      "2\n"
     ]
    }
   ],
   "source": [
    "pred_lst.append(pred_ALS)\n",
    "print(len(pred_lst))"
   ]
  },
  {
   "cell_type": "code",
   "execution_count": 29,
   "metadata": {},
   "outputs": [],
   "source": [
    "pred_lst_2 = pred_lst.copy()"
   ]
  },
  {
   "cell_type": "code",
   "execution_count": 30,
   "metadata": {},
   "outputs": [
    {
     "data": {
      "text/plain": [
       "2"
      ]
     },
     "execution_count": 30,
     "metadata": {},
     "output_type": "execute_result"
    }
   ],
   "source": [
    "len(pred_lst_2)"
   ]
  },
  {
   "cell_type": "code",
   "execution_count": 32,
   "metadata": {},
   "outputs": [],
   "source": [
    "simple_models = False"
   ]
  },
  {
   "cell_type": "code",
   "execution_count": 33,
   "metadata": {},
   "outputs": [],
   "source": [
    "if simple_models:\n",
    "    # simple_models\n",
    "    from simple_models import *\n",
    "    print(\"learn global mean\")\n",
    "    pred_globalmean =  global_mean(ratings, 0)\n",
    "    print(pred_globalmean.shape)\n",
    "    pred_lst.append(pred_globalmean)\n",
    "\n",
    "    print(\"learn user mean\")\n",
    "    pred_usermean = user_mean(ratings, 0)\n",
    "    print(pred_usermean.shape)\n",
    "    pred_lst.append(pred_usermean)\n",
    "\n",
    "    print(\"learn item mean\")\n",
    "    pred_itemmean = baseline_item_mean(ratings, 0)\n",
    "    print(pred_itemmean.shape)\n",
    "    pred_lst.append(pred_itemmean)"
   ]
  },
  {
   "cell_type": "code",
   "execution_count": 34,
   "metadata": {},
   "outputs": [],
   "source": [
    "def prepareBlending(ratings, list_pred):\n",
    "    # determine position of given ratings\n",
    "    nonzero_row, nonzero_col = ratings.nonzero()\n",
    "    nonzero_train = list(zip(nonzero_row, nonzero_col))\n",
    "    \n",
    "    prediction = []\n",
    "    prediction_model = []\n",
    "    \n",
    "    for pred_id, pred in enumerate(list_pred):\n",
    "        print(pred_id)\n",
    "        \n",
    "        print(pred.shape)\n",
    "        \n",
    "        pred_tmp = []\n",
    "        for i in nonzero_train:\n",
    "            pred_tmp.append(pred.item(i))\n",
    "\n",
    "        print(len(pred_tmp)) # (1176952)\n",
    "        \n",
    "        prediction_model.append(pred_tmp)\n",
    "    \n",
    "        if pred_id == 0:\n",
    "            prediction = pred_tmp\n",
    "        else:\n",
    "            prediction = np.vstack((prediction,pred_tmp))          \n",
    "        \n",
    "        print(len(prediction))\n",
    "        print(type(prediction))\n",
    "        \n",
    "    return prediction_model, prediction"
   ]
  },
  {
   "cell_type": "code",
   "execution_count": 35,
   "metadata": {},
   "outputs": [
    {
     "name": "stdout",
     "output_type": "stream",
     "text": [
      "0\n",
      "(10000, 1000)\n",
      "1176952\n",
      "1176952\n",
      "<class 'list'>\n",
      "1\n",
      "(10000, 1000)\n",
      "1176952\n",
      "2\n",
      "<class 'numpy.ndarray'>\n",
      "(2, 1176952)\n",
      "2\n"
     ]
    }
   ],
   "source": [
    "prediction_m, prediction = prepareBlending(ratings, pred_lst)\n",
    "print(prediction.shape)\n",
    "print(len(prediction_m))"
   ]
  },
  {
   "cell_type": "code",
   "execution_count": null,
   "metadata": {},
   "outputs": [],
   "source": []
  },
  {
   "cell_type": "code",
   "execution_count": null,
   "metadata": {},
   "outputs": [],
   "source": []
  },
  {
   "cell_type": "code",
   "execution_count": null,
   "metadata": {},
   "outputs": [],
   "source": []
  },
  {
   "cell_type": "markdown",
   "metadata": {},
   "source": [
    "## Blending"
   ]
  },
  {
   "cell_type": "code",
   "execution_count": 33,
   "metadata": {
    "scrolled": true
   },
   "outputs": [
    {
     "data": {
      "text/html": [
       "<div>\n",
       "<style scoped>\n",
       "    .dataframe tbody tr th:only-of-type {\n",
       "        vertical-align: middle;\n",
       "    }\n",
       "\n",
       "    .dataframe tbody tr th {\n",
       "        vertical-align: top;\n",
       "    }\n",
       "\n",
       "    .dataframe thead th {\n",
       "        text-align: right;\n",
       "    }\n",
       "</style>\n",
       "<table border=\"1\" class=\"dataframe\">\n",
       "  <thead>\n",
       "    <tr style=\"text-align: right;\">\n",
       "      <th></th>\n",
       "      <th>Rating</th>\n",
       "      <th>User</th>\n",
       "      <th>Movie</th>\n",
       "    </tr>\n",
       "  </thead>\n",
       "  <tbody>\n",
       "    <tr>\n",
       "      <th>0</th>\n",
       "      <td>4</td>\n",
       "      <td>43</td>\n",
       "      <td>0</td>\n",
       "    </tr>\n",
       "    <tr>\n",
       "      <th>1</th>\n",
       "      <td>3</td>\n",
       "      <td>60</td>\n",
       "      <td>0</td>\n",
       "    </tr>\n",
       "    <tr>\n",
       "      <th>2</th>\n",
       "      <td>4</td>\n",
       "      <td>66</td>\n",
       "      <td>0</td>\n",
       "    </tr>\n",
       "    <tr>\n",
       "      <th>3</th>\n",
       "      <td>3</td>\n",
       "      <td>71</td>\n",
       "      <td>0</td>\n",
       "    </tr>\n",
       "    <tr>\n",
       "      <th>4</th>\n",
       "      <td>5</td>\n",
       "      <td>85</td>\n",
       "      <td>0</td>\n",
       "    </tr>\n",
       "  </tbody>\n",
       "</table>\n",
       "</div>"
      ],
      "text/plain": [
       "   Rating  User  Movie\n",
       "0       4    43      0\n",
       "1       3    60      0\n",
       "2       4    66      0\n",
       "3       3    71      0\n",
       "4       5    85      0"
      ]
     },
     "execution_count": 33,
     "metadata": {},
     "output_type": "execute_result"
    }
   ],
   "source": [
    "y = pandas['Rating']\n",
    "y.head()"
   ]
  },
  {
   "cell_type": "code",
   "execution_count": 95,
   "metadata": {},
   "outputs": [
    {
     "data": {
      "text/html": [
       "<div>\n",
       "<style scoped>\n",
       "    .dataframe tbody tr th:only-of-type {\n",
       "        vertical-align: middle;\n",
       "    }\n",
       "\n",
       "    .dataframe tbody tr th {\n",
       "        vertical-align: top;\n",
       "    }\n",
       "\n",
       "    .dataframe thead th {\n",
       "        text-align: right;\n",
       "    }\n",
       "</style>\n",
       "<table border=\"1\" class=\"dataframe\">\n",
       "  <thead>\n",
       "    <tr style=\"text-align: right;\">\n",
       "      <th></th>\n",
       "      <th>0</th>\n",
       "      <th>1</th>\n",
       "      <th>2</th>\n",
       "      <th>3</th>\n",
       "    </tr>\n",
       "  </thead>\n",
       "  <tbody>\n",
       "    <tr>\n",
       "      <th>0</th>\n",
       "      <td>4.482649</td>\n",
       "      <td>4.862356</td>\n",
       "      <td>4.601055</td>\n",
       "      <td>4.573068</td>\n",
       "    </tr>\n",
       "    <tr>\n",
       "      <th>1</th>\n",
       "      <td>4.116871</td>\n",
       "      <td>3.342292</td>\n",
       "      <td>3.151673</td>\n",
       "      <td>3.725260</td>\n",
       "    </tr>\n",
       "    <tr>\n",
       "      <th>2</th>\n",
       "      <td>4.291094</td>\n",
       "      <td>4.698996</td>\n",
       "      <td>4.326409</td>\n",
       "      <td>4.700248</td>\n",
       "    </tr>\n",
       "    <tr>\n",
       "      <th>3</th>\n",
       "      <td>4.303059</td>\n",
       "      <td>4.230530</td>\n",
       "      <td>4.184244</td>\n",
       "      <td>4.279365</td>\n",
       "    </tr>\n",
       "    <tr>\n",
       "      <th>4</th>\n",
       "      <td>2.721534</td>\n",
       "      <td>2.558059</td>\n",
       "      <td>2.535235</td>\n",
       "      <td>2.393988</td>\n",
       "    </tr>\n",
       "  </tbody>\n",
       "</table>\n",
       "</div>"
      ],
      "text/plain": [
       "          0         1         2         3\n",
       "0  4.482649  4.862356  4.601055  4.573068\n",
       "1  4.116871  3.342292  3.151673  3.725260\n",
       "2  4.291094  4.698996  4.326409  4.700248\n",
       "3  4.303059  4.230530  4.184244  4.279365\n",
       "4  2.721534  2.558059  2.535235  2.393988"
      ]
     },
     "execution_count": 95,
     "metadata": {},
     "output_type": "execute_result"
    }
   ],
   "source": [
    "X = np.transpose(prediction)\n",
    "X[0:5]"
   ]
  },
  {
   "cell_type": "markdown",
   "metadata": {},
   "source": [
    "#### Linear Regression"
   ]
  },
  {
   "cell_type": "code",
   "execution_count": 96,
   "metadata": {},
   "outputs": [
    {
     "name": "stdout",
     "output_type": "stream",
     "text": [
      "Weights of the different models: [ 0.00639413 -0.09418211  1.07471705  0.02613074]\n"
     ]
    }
   ],
   "source": [
    "#clf = LinearRegression()\n",
    "#clf = clf.fit(X, y)\n",
    "#print('Weights of the different models:', clf.coef_)\n",
    "#clf.score(X, y)"
   ]
  },
  {
   "cell_type": "markdown",
   "metadata": {},
   "source": [
    "#### Ridge Regression"
   ]
  },
  {
   "cell_type": "code",
   "execution_count": 97,
   "metadata": {},
   "outputs": [
    {
     "data": {
      "text/plain": [
       "array([ 0.03225115, -0.09648427,  1.07089289,  0.0309938 ])"
      ]
     },
     "execution_count": 97,
     "metadata": {},
     "output_type": "execute_result"
    }
   ],
   "source": [
    "from sklearn.linear_model import Ridge\n",
    "linreg = Ridge(alpha=0.1, fit_intercept=False)\n",
    "linreg.fit(X, y)\n",
    "linreg.coef_"
   ]
  },
  {
   "cell_type": "code",
   "execution_count": 74,
   "metadata": {
    "scrolled": true
   },
   "outputs": [
    {
     "data": {
      "text/plain": [
       "-0.19198981056164754"
      ]
     },
     "execution_count": 74,
     "metadata": {},
     "output_type": "execute_result"
    }
   ],
   "source": [
    "linreg.score(X, y)"
   ]
  },
  {
   "cell_type": "code",
   "execution_count": null,
   "metadata": {},
   "outputs": [],
   "source": []
  },
  {
   "cell_type": "code",
   "execution_count": null,
   "metadata": {},
   "outputs": [],
   "source": []
  },
  {
   "cell_type": "code",
   "execution_count": 21,
   "metadata": {},
   "outputs": [
    {
     "data": {
      "text/plain": [
       "1.5979589651914436"
      ]
     },
     "execution_count": 21,
     "metadata": {},
     "output_type": "execute_result"
    }
   ],
   "source": [
    "# compute MSE - Blending\n",
    "sum((np.round(X.dot(linreg.coef_)) - y)**2)/y.shape[0]"
   ]
  },
  {
   "cell_type": "code",
   "execution_count": 22,
   "metadata": {},
   "outputs": [
    {
     "data": {
      "text/plain": [
       "1.6271810575112664"
      ]
     },
     "execution_count": 22,
     "metadata": {},
     "output_type": "execute_result"
    }
   ],
   "source": [
    "# compute MSE - SGD\n",
    "sum(np.round(prediction_m[0] - y)**2)/y.shape[0]"
   ]
  },
  {
   "cell_type": "code",
   "execution_count": 23,
   "metadata": {},
   "outputs": [
    {
     "data": {
      "text/plain": [
       "1.6172902548277246"
      ]
     },
     "execution_count": 23,
     "metadata": {},
     "output_type": "execute_result"
    }
   ],
   "source": [
    "# compute MSE - ALS\n",
    "sum(np.round(prediction_m[1] - y)**2)/y.shape[0]"
   ]
  },
  {
   "cell_type": "code",
   "execution_count": null,
   "metadata": {},
   "outputs": [],
   "source": []
  },
  {
   "cell_type": "code",
   "execution_count": null,
   "metadata": {},
   "outputs": [],
   "source": []
  },
  {
   "cell_type": "markdown",
   "metadata": {},
   "source": [
    "## Manual comparison of ratings"
   ]
  },
  {
   "cell_type": "code",
   "execution_count": 98,
   "metadata": {
    "scrolled": true
   },
   "outputs": [
    {
     "name": "stdout",
     "output_type": "stream",
     "text": [
      "          0         1         2         3\n",
      "0  4.482649  4.862356  4.601055  4.573068\n",
      "1  4.116871  3.342292  3.151673  3.725260\n",
      "2  4.291094  4.698996  4.326409  4.700248\n",
      "3  4.303059  4.230530  4.184244  4.279365\n",
      "4  2.721534  2.558059  2.535235  2.393988\n",
      "5  3.548843  3.451663  3.169321  3.522247\n",
      "6  3.611524  3.890638  3.503754  3.802356\n",
      "7  4.418959  4.092229  3.650567  4.406050\n",
      "8  3.915700  4.037428  3.955349  4.046888\n",
      "9  3.652462  3.802900  3.586445  3.749890\n"
     ]
    }
   ],
   "source": [
    "print(X[0:10])"
   ]
  },
  {
   "cell_type": "code",
   "execution_count": 99,
   "metadata": {},
   "outputs": [
    {
     "name": "stdout",
     "output_type": "stream",
     "text": [
      "(4.0, 1.0, 4.0, 5.0, 2.0, 2.0, 3.0, 3.0, 4.0, 2.0)\n"
     ]
    }
   ],
   "source": [
    "print(y[0:10])"
   ]
  },
  {
   "cell_type": "code",
   "execution_count": 100,
   "metadata": {},
   "outputs": [
    {
     "name": "stdout",
     "output_type": "stream",
     "text": [
      "0    4.744404\n",
      "1    3.300860\n",
      "2    4.463813\n",
      "3    4.344110\n",
      "4    2.630124\n",
      "5    3.284594\n",
      "6    3.611085\n",
      "7    3.793608\n",
      "8    4.097921\n",
      "9    3.707798\n",
      "dtype: float64\n"
     ]
    }
   ],
   "source": [
    "# final result\n",
    "result = X.dot(linreg.coef_)\n",
    "print(result[0:10])"
   ]
  },
  {
   "cell_type": "code",
   "execution_count": null,
   "metadata": {},
   "outputs": [],
   "source": []
  },
  {
   "cell_type": "code",
   "execution_count": 28,
   "metadata": {},
   "outputs": [],
   "source": [
    "if simple_models:\n",
    "    result = pred_SGD * linreg.coef_[0] + pred_ALS * linreg.coef_[1] + pred_globalmean * linreg.coef_[2] + pred_usermean * linreg.coef_[3] + pred_itemmean * linreg.coef_[4]\n",
    "else:\n",
    "    result = pred_SGD * linreg.coef_[0] + pred_ALS * linreg.coef_[1]\n",
    "        \n",
    "    "
   ]
  },
  {
   "cell_type": "code",
   "execution_count": 105,
   "metadata": {},
   "outputs": [
    {
     "data": {
      "text/plain": [
       "(1176952,)"
      ]
     },
     "execution_count": 105,
     "metadata": {},
     "output_type": "execute_result"
    }
   ],
   "source": [
    "result.shape"
   ]
  },
  {
   "cell_type": "code",
   "execution_count": null,
   "metadata": {},
   "outputs": [],
   "source": []
  },
  {
   "cell_type": "code",
   "execution_count": 30,
   "metadata": {},
   "outputs": [],
   "source": [
    "if simple_models:\n",
    "    create_submission_from_prediction(result, \"out5-0.1.csv\")\n",
    "else:\n",
    "    create_submission_from_prediction(result, \"out2-0.1.csv\")"
   ]
  },
  {
   "cell_type": "code",
   "execution_count": null,
   "metadata": {},
   "outputs": [],
   "source": []
  },
  {
   "cell_type": "code",
   "execution_count": 106,
   "metadata": {},
   "outputs": [],
   "source": [
    "create_submission_from_prediction(result, \"out-4modelsurprise.csv\")"
   ]
  },
  {
   "cell_type": "code",
   "execution_count": null,
   "metadata": {},
   "outputs": [],
   "source": []
  }
 ],
 "metadata": {
  "kernelspec": {
   "display_name": "Python 3",
   "language": "python",
   "name": "python3"
  },
  "language_info": {
   "codemirror_mode": {
    "name": "ipython",
    "version": 3
   },
   "file_extension": ".py",
   "mimetype": "text/x-python",
   "name": "python",
   "nbconvert_exporter": "python",
   "pygments_lexer": "ipython3",
   "version": "3.6.5"
  }
 },
 "nbformat": 4,
 "nbformat_minor": 2
}
