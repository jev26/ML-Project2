{
 "cells": [
  {
   "cell_type": "code",
   "execution_count": 31,
   "metadata": {},
   "outputs": [],
   "source": [
    "import numpy as np\n",
    "import matplotlib.pyplot as plt\n",
    "from helper import *\n",
    "import scipy.sparse as sp\n",
    "from test import load_data_sparse\n",
    "from SGD import *\n",
    "from ALS import *\n",
    "from Visualization import cv_result\n",
    "from sklearn.linear_model import LinearRegression\n",
    "from crossval import *"
   ]
  },
  {
   "cell_type": "code",
   "execution_count": 32,
   "metadata": {},
   "outputs": [
    {
     "name": "stdout",
     "output_type": "stream",
     "text": [
      "(1176952, 3)\n"
     ]
    }
   ],
   "source": [
    "data_name = \"data/47b05e70-6076-44e8-96da-2530dc2187de_data_train.csv\"\n",
    "\n",
    "ratings, pandas = load_data_sparse(data_name, False)\n",
    "\n",
    "print(pandas.shape) # (1176952, 3)\n",
    "\n",
    "stop_criterion = 1e-2\n",
    "prediction = []"
   ]
  },
  {
   "cell_type": "code",
   "execution_count": 33,
   "metadata": {},
   "outputs": [
    {
     "name": "stdout",
     "output_type": "stream",
     "text": [
      "learn the matrix factorization using SGD...\n"
     ]
    }
   ],
   "source": [
    "# SGD\n",
    "nb_feature = 20\n",
    "lambda_ = 0.004\n",
    "pred_SGD, _, _ = matrix_factorization_SGD_CV(ratings, nb_feature, lambda_, lambda_, stop_criterion)\n"
   ]
  },
  {
   "cell_type": "code",
   "execution_count": 34,
   "metadata": {},
   "outputs": [
    {
     "name": "stdout",
     "output_type": "stream",
     "text": [
      "1176952\n",
      "<class 'list'>\n",
      "1176952\n",
      "<class 'list'>\n"
     ]
    }
   ],
   "source": [
    "# keep only prediction for tests\n",
    "nonzero_row, nonzero_col = ratings.nonzero()\n",
    "nonzero_train = list(zip(nonzero_row, nonzero_col))\n",
    "\n",
    "pred_tmp = []\n",
    "for i in nonzero_train:\n",
    "    pred_tmp.append(pred_SGD.item(i))\n",
    "\n",
    "print(len(pred_tmp)) # (1176952)\n",
    "print(type(pred_tmp))\n",
    "\n",
    "prediction = pred_tmp\n",
    "print(len(prediction))\n",
    "print(type(prediction))\n",
    "\n",
    "prediction_save = prediction.copy()"
   ]
  },
  {
   "cell_type": "code",
   "execution_count": 35,
   "metadata": {},
   "outputs": [
    {
     "name": "stdout",
     "output_type": "stream",
     "text": [
      "1176952\n"
     ]
    }
   ],
   "source": [
    "print(len(prediction))"
   ]
  },
  {
   "cell_type": "code",
   "execution_count": 36,
   "metadata": {},
   "outputs": [
    {
     "name": "stdout",
     "output_type": "stream",
     "text": [
      "1176952\n"
     ]
    }
   ],
   "source": [
    "print(len(pred_tmp))"
   ]
  },
  {
   "cell_type": "code",
   "execution_count": 37,
   "metadata": {},
   "outputs": [
    {
     "data": {
      "text/plain": [
       "'\"prediction = [] \\nprediction = np.asarray(pred_tmp)\\nprint(len(pred_tmp))\\nprint(prediction.shape)\\ntmp = np.asarray(pred_tmp)\\nprediction = np.vstack((prediction,tmp))\\nprint(prediction.shape)\\nprint(type(prediction))'"
      ]
     },
     "execution_count": 37,
     "metadata": {},
     "output_type": "execute_result"
    }
   ],
   "source": [
    "# TEST\n",
    "\"\"\"\"prediction = [] \n",
    "prediction = np.asarray(pred_tmp)\n",
    "print(len(pred_tmp))\n",
    "print(prediction.shape)\n",
    "tmp = np.asarray(pred_tmp)\n",
    "prediction = np.vstack((prediction,tmp))\n",
    "print(prediction.shape)\n",
    "print(type(prediction))\"\"\""
   ]
  },
  {
   "cell_type": "code",
   "execution_count": 38,
   "metadata": {},
   "outputs": [
    {
     "name": "stdout",
     "output_type": "stream",
     "text": [
      "learn the matrix factorization using ALS...\n"
     ]
    }
   ],
   "source": [
    "# ALS\n",
    "nb_feature = 8\n",
    "lambda_ = 0.081\n",
    "pred_ALS, _, _ = ALS_CV(ratings, nb_feature, lambda_, lambda_, stop_criterion)\n"
   ]
  },
  {
   "cell_type": "code",
   "execution_count": 39,
   "metadata": {},
   "outputs": [],
   "source": [
    "prediction = prediction_save"
   ]
  },
  {
   "cell_type": "code",
   "execution_count": 40,
   "metadata": {},
   "outputs": [
    {
     "name": "stdout",
     "output_type": "stream",
     "text": [
      "1176952\n"
     ]
    }
   ],
   "source": [
    "print(len(prediction))"
   ]
  },
  {
   "cell_type": "code",
   "execution_count": 41,
   "metadata": {},
   "outputs": [
    {
     "name": "stdout",
     "output_type": "stream",
     "text": [
      "1176952\n",
      "<class 'numpy.ndarray'>\n",
      "(2, 1176952)\n"
     ]
    }
   ],
   "source": [
    "pred_tmp = []\n",
    "for i in nonzero_train:\n",
    "    pred_tmp.append(pred_ALS.item(i))\n",
    "\n",
    "print(len(pred_tmp))  # (1176952) ?\n",
    "\n",
    "prediction = np.vstack((prediction,pred_tmp))\n",
    "\n",
    "print(type(prediction))\n",
    "print(prediction.shape)"
   ]
  },
  {
   "cell_type": "code",
   "execution_count": 42,
   "metadata": {},
   "outputs": [
    {
     "data": {
      "text/plain": [
       "0    4\n",
       "1    3\n",
       "2    4\n",
       "3    3\n",
       "4    5\n",
       "Name: Rating, dtype: int64"
      ]
     },
     "execution_count": 42,
     "metadata": {},
     "output_type": "execute_result"
    }
   ],
   "source": [
    "#pandas.head()\n",
    "y = pandas['Rating']\n",
    "y.head()"
   ]
  },
  {
   "cell_type": "code",
   "execution_count": 43,
   "metadata": {},
   "outputs": [],
   "source": [
    "## Blending function\n",
    "X = np.transpose(prediction)\n",
    "#clf = LinearRegression()\n",
    "#clf = clf.fit(X, y)\n",
    "#print('Weights of the different models:', clf.coef_)\n",
    "#clf.score(X, y)"
   ]
  },
  {
   "cell_type": "code",
   "execution_count": 44,
   "metadata": {},
   "outputs": [
    {
     "data": {
      "text/plain": [
       "array([0.5692528 , 0.43138293])"
      ]
     },
     "execution_count": 44,
     "metadata": {},
     "output_type": "execute_result"
    }
   ],
   "source": [
    "from sklearn.linear_model import Ridge\n",
    "linreg = Ridge(alpha=0.1, fit_intercept=False)\n",
    "linreg.fit(X, y)\n",
    "linreg.coef_"
   ]
  },
  {
   "cell_type": "code",
   "execution_count": 45,
   "metadata": {},
   "outputs": [
    {
     "data": {
      "text/plain": [
       "-0.2165127061344998"
      ]
     },
     "execution_count": 45,
     "metadata": {},
     "output_type": "execute_result"
    }
   ],
   "source": [
    "linreg.score(X, y)"
   ]
  },
  {
   "cell_type": "code",
   "execution_count": 46,
   "metadata": {
    "scrolled": true
   },
   "outputs": [
    {
     "name": "stdout",
     "output_type": "stream",
     "text": [
      "[[3.57990296 3.6958964 ]\n",
      " [3.98563097 3.58744197]\n",
      " [3.40529202 3.37514241]\n",
      " [4.09591679 3.89092028]\n",
      " [4.14685253 3.89526192]\n",
      " [4.44663429 4.44019618]\n",
      " [3.89128389 3.98457232]\n",
      " [4.1978591  3.90785437]\n",
      " [3.81274767 3.47022212]\n",
      " [3.65598894 3.66028023]]\n"
     ]
    }
   ],
   "source": [
    "print(X[0:10])"
   ]
  },
  {
   "cell_type": "code",
   "execution_count": 47,
   "metadata": {},
   "outputs": [
    {
     "name": "stdout",
     "output_type": "stream",
     "text": [
      "0    4\n",
      "1    3\n",
      "2    4\n",
      "3    3\n",
      "4    5\n",
      "5    4\n",
      "6    3\n",
      "7    3\n",
      "8    2\n",
      "9    5\n",
      "Name: Rating, dtype: int64\n"
     ]
    }
   ],
   "source": [
    "print(y[0:10])"
   ]
  },
  {
   "cell_type": "code",
   "execution_count": 48,
   "metadata": {},
   "outputs": [
    {
     "name": "stdout",
     "output_type": "stream",
     "text": [
      "[3.63221637 3.81639279 3.39445081 4.01008866 4.04095688 4.44668382\n",
      " 3.9340007  4.07542469 3.66741184 3.66016432]\n"
     ]
    }
   ],
   "source": [
    "# final result\n",
    "result = X.dot(linreg.coef_)\n",
    "print(result[0:10])"
   ]
  },
  {
   "cell_type": "code",
   "execution_count": 49,
   "metadata": {},
   "outputs": [
    {
     "name": "stdout",
     "output_type": "stream",
     "text": [
      "(1176952,)\n"
     ]
    }
   ],
   "source": [
    "print(result.shape)"
   ]
  },
  {
   "cell_type": "code",
   "execution_count": null,
   "metadata": {},
   "outputs": [],
   "source": []
  },
  {
   "cell_type": "code",
   "execution_count": 50,
   "metadata": {},
   "outputs": [],
   "source": [
    "result = pred_SGD * linreg.coef_[0] + pred_ALS * linreg.coef_[1]"
   ]
  },
  {
   "cell_type": "code",
   "execution_count": null,
   "metadata": {},
   "outputs": [],
   "source": [
    "create_submission_from_prediction(result, output_name)"
   ]
  },
  {
   "cell_type": "code",
   "execution_count": null,
   "metadata": {},
   "outputs": [],
   "source": []
  },
  {
   "cell_type": "code",
   "execution_count": null,
   "metadata": {},
   "outputs": [],
   "source": []
  }
 ],
 "metadata": {
  "kernelspec": {
   "display_name": "Python 3",
   "language": "python",
   "name": "python3"
  },
  "language_info": {
   "codemirror_mode": {
    "name": "ipython",
    "version": 3
   },
   "file_extension": ".py",
   "mimetype": "text/x-python",
   "name": "python",
   "nbconvert_exporter": "python",
   "pygments_lexer": "ipython3",
   "version": "3.6.5"
  }
 },
 "nbformat": 4,
 "nbformat_minor": 2
}
