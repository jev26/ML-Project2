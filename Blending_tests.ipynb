{
 "cells": [
  {
   "cell_type": "code",
   "execution_count": 1,
   "metadata": {},
   "outputs": [],
   "source": [
    "import numpy as np\n",
    "import matplotlib.pyplot as plt\n",
    "from helper import *\n",
    "import scipy.sparse as sp\n",
    "from test import load_data_sparse\n",
    "from SGD import *\n",
    "from ALS import *\n",
    "from Visualization import cv_result\n",
    "from sklearn.linear_model import LinearRegression\n",
    "from crossval import *"
   ]
  },
  {
   "cell_type": "code",
   "execution_count": 2,
   "metadata": {},
   "outputs": [
    {
     "name": "stdout",
     "output_type": "stream",
     "text": [
      "(1176952, 3)\n"
     ]
    }
   ],
   "source": [
    "data_name = \"data/47b05e70-6076-44e8-96da-2530dc2187de_data_train.csv\"\n",
    "\n",
    "ratings, pandas = load_data_sparse(data_name, False)\n",
    "\n",
    "print(pandas.shape) # (1176952, 3)\n",
    "\n",
    "stop_criterion = 1e-2\n",
    "prediction = []"
   ]
  },
  {
   "cell_type": "code",
   "execution_count": 3,
   "metadata": {},
   "outputs": [
    {
     "name": "stdout",
     "output_type": "stream",
     "text": [
      "learn the matrix factorization using SGD...\n"
     ]
    }
   ],
   "source": [
    "# SGD\n",
    "nb_feature = 20\n",
    "lambda_ = 0.004\n",
    "pred, _, _ = matrix_factorization_SGD_CV(ratings, nb_feature, lambda_, lambda_, stop_criterion)\n"
   ]
  },
  {
   "cell_type": "code",
   "execution_count": 4,
   "metadata": {},
   "outputs": [
    {
     "name": "stdout",
     "output_type": "stream",
     "text": [
      "1176952\n",
      "<class 'list'>\n",
      "1176952\n",
      "<class 'list'>\n"
     ]
    }
   ],
   "source": [
    "# keep only prediction for tests\n",
    "nonzero_row, nonzero_col = ratings.nonzero()\n",
    "nonzero_train = list(zip(nonzero_row, nonzero_col))\n",
    "\n",
    "pred_tmp = []\n",
    "for i in nonzero_train:\n",
    "    pred_tmp.append(pred.item(i))\n",
    "\n",
    "print(len(pred_tmp)) # (1176952)\n",
    "print(type(pred_tmp))\n",
    "\n",
    "prediction = pred_tmp\n",
    "print(len(prediction))\n",
    "print(type(prediction))\n",
    "\n",
    "prediction_save = prediction.copy()"
   ]
  },
  {
   "cell_type": "code",
   "execution_count": 5,
   "metadata": {},
   "outputs": [
    {
     "name": "stdout",
     "output_type": "stream",
     "text": [
      "1176952\n"
     ]
    }
   ],
   "source": [
    "print(len(prediction))"
   ]
  },
  {
   "cell_type": "code",
   "execution_count": 6,
   "metadata": {},
   "outputs": [
    {
     "name": "stdout",
     "output_type": "stream",
     "text": [
      "1176952\n"
     ]
    }
   ],
   "source": [
    "print(len(pred_tmp))"
   ]
  },
  {
   "cell_type": "code",
   "execution_count": 7,
   "metadata": {},
   "outputs": [
    {
     "name": "stdout",
     "output_type": "stream",
     "text": [
      "1176952\n",
      "(1176952,)\n",
      "(2, 1176952)\n",
      "2\n",
      "<class 'numpy.ndarray'>\n"
     ]
    }
   ],
   "source": [
    "# TEST\n",
    "\"\"\"\"prediction = [] \n",
    "prediction = np.asarray(pred_tmp)\n",
    "print(len(pred_tmp))\n",
    "print(prediction.shape)\n",
    "tmp = np.asarray(pred_tmp)\n",
    "prediction = np.vstack((prediction,tmp))\n",
    "print(prediction.shape)\n",
    "print(type(prediction))\"\"\""
   ]
  },
  {
   "cell_type": "code",
   "execution_count": 10,
   "metadata": {},
   "outputs": [
    {
     "name": "stdout",
     "output_type": "stream",
     "text": [
      "learn the matrix factorization using ALS...\n"
     ]
    }
   ],
   "source": [
    "# ALS\n",
    "nb_feature = 8\n",
    "lambda_ = 0.081\n",
    "pred, _, _ = ALS_CV(ratings, nb_feature, lambda_, lambda_, stop_criterion)\n"
   ]
  },
  {
   "cell_type": "code",
   "execution_count": 15,
   "metadata": {},
   "outputs": [],
   "source": [
    "prediction = prediction_save"
   ]
  },
  {
   "cell_type": "code",
   "execution_count": 16,
   "metadata": {},
   "outputs": [
    {
     "name": "stdout",
     "output_type": "stream",
     "text": [
      "1176952\n"
     ]
    }
   ],
   "source": [
    "print(len(prediction))"
   ]
  },
  {
   "cell_type": "code",
   "execution_count": 17,
   "metadata": {},
   "outputs": [
    {
     "name": "stdout",
     "output_type": "stream",
     "text": [
      "1176952\n",
      "<class 'numpy.ndarray'>\n",
      "(2, 1176952)\n"
     ]
    }
   ],
   "source": [
    "pred_tmp = []\n",
    "for i in nonzero_train:\n",
    "    pred_tmp.append(pred.item(i))\n",
    "\n",
    "print(len(pred_tmp))  # (1176952) ?\n",
    "\n",
    "prediction = np.vstack((prediction,pred_tmp))\n",
    "\n",
    "print(type(prediction))\n",
    "print(prediction.shape)"
   ]
  },
  {
   "cell_type": "code",
   "execution_count": 20,
   "metadata": {},
   "outputs": [
    {
     "data": {
      "text/plain": [
       "0    4\n",
       "1    3\n",
       "2    4\n",
       "3    3\n",
       "4    5\n",
       "Name: Rating, dtype: int64"
      ]
     },
     "execution_count": 20,
     "metadata": {},
     "output_type": "execute_result"
    }
   ],
   "source": [
    "#pandas.head()\n",
    "y = pandas['Rating']\n",
    "y.head()"
   ]
  },
  {
   "cell_type": "code",
   "execution_count": 76,
   "metadata": {},
   "outputs": [],
   "source": [
    "## Blending function\n",
    "X = np.transpose(prediction)\n",
    "clf = LinearRegression()\n",
    "clf = clf.fit(X, y)"
   ]
  },
  {
   "cell_type": "code",
   "execution_count": 77,
   "metadata": {},
   "outputs": [
    {
     "name": "stdout",
     "output_type": "stream",
     "text": [
      "Weights of the different models: [ 0.00183917 -0.00466753]\n"
     ]
    }
   ],
   "source": [
    "print('Weights of the different models:', clf.coef_)"
   ]
  },
  {
   "cell_type": "code",
   "execution_count": 78,
   "metadata": {},
   "outputs": [
    {
     "data": {
      "text/plain": [
       "2.1310387169348743e-06"
      ]
     },
     "execution_count": 78,
     "metadata": {},
     "output_type": "execute_result"
    }
   ],
   "source": [
    "clf.score(X, y)"
   ]
  },
  {
   "cell_type": "code",
   "execution_count": 79,
   "metadata": {
    "scrolled": true
   },
   "outputs": [
    {
     "name": "stdout",
     "output_type": "stream",
     "text": [
      "[[3.98563097 3.58744197]\n",
      " [3.40529202 3.37514241]\n",
      " [4.09591679 3.89092028]\n",
      " [4.14685253 3.89526192]\n",
      " [4.44663429 4.44019618]\n",
      " [3.89128389 3.98457232]\n",
      " [4.1978591  3.90785437]\n",
      " [3.81274767 3.47022212]\n",
      " [3.65598894 3.66028023]]\n"
     ]
    }
   ],
   "source": [
    "print(X[1:10])"
   ]
  },
  {
   "cell_type": "code",
   "execution_count": 80,
   "metadata": {},
   "outputs": [
    {
     "name": "stdout",
     "output_type": "stream",
     "text": [
      "1    3\n",
      "2    4\n",
      "3    3\n",
      "4    5\n",
      "5    4\n",
      "6    3\n",
      "7    3\n",
      "8    2\n",
      "9    5\n",
      "Name: Rating, dtype: int64\n"
     ]
    }
   ],
   "source": [
    "print(y[1:10])"
   ]
  },
  {
   "cell_type": "code",
   "execution_count": 81,
   "metadata": {},
   "outputs": [
    {
     "name": "stdout",
     "output_type": "stream",
     "text": [
      "[-0.00941426 -0.00949069 -0.01062792 -0.01055451 -0.01254666 -0.0114414\n",
      " -0.01051947 -0.00918509 -0.0103605 ]\n"
     ]
    }
   ],
   "source": [
    "# final result\n",
    "result = X.dot(clf.coef_)\n",
    "print(result[1:10])"
   ]
  },
  {
   "cell_type": "code",
   "execution_count": 82,
   "metadata": {},
   "outputs": [
    {
     "name": "stdout",
     "output_type": "stream",
     "text": [
      "(1176952,)\n"
     ]
    }
   ],
   "source": [
    "print(result.shape)"
   ]
  },
  {
   "cell_type": "code",
   "execution_count": null,
   "metadata": {},
   "outputs": [],
   "source": []
  }
 ],
 "metadata": {
  "kernelspec": {
   "display_name": "Python 3",
   "language": "python",
   "name": "python3"
  },
  "language_info": {
   "codemirror_mode": {
    "name": "ipython",
    "version": 3
   },
   "file_extension": ".py",
   "mimetype": "text/x-python",
   "name": "python",
   "nbconvert_exporter": "python",
   "pygments_lexer": "ipython3",
   "version": "3.6.5"
  }
 },
 "nbformat": 4,
 "nbformat_minor": 2
}
