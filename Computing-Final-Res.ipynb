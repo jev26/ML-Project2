{
 "cells": [
  {
   "cell_type": "code",
   "execution_count": 10,
   "metadata": {},
   "outputs": [],
   "source": [
    "from test import load_data_sparse\n",
    "from SGD import *\n",
    "from ALS import *\n",
    "from surprise_models import *\n",
    "from surprise.model_selection import train_test_split\n",
    "from helper import create_submission_from_prediction"
   ]
  },
  {
   "cell_type": "code",
   "execution_count": 11,
   "metadata": {},
   "outputs": [],
   "source": [
    "def calculate_rmse(real_labels, predictions):\n",
    "    \"\"\"Calculate RMSE.\"\"\"\n",
    "    return np.linalg.norm(real_labels - predictions) / np.sqrt(len(real_labels))"
   ]
  },
  {
   "cell_type": "code",
   "execution_count": 12,
   "metadata": {},
   "outputs": [],
   "source": [
    "data_name = \"data/47b05e70-6076-44e8-96da-2530dc2187de_data_train.csv\"\n",
    "test_name = \"data/sampleSubmission.csv\""
   ]
  },
  {
   "cell_type": "markdown",
   "metadata": {},
   "source": [
    "Load trainset:"
   ]
  },
  {
   "cell_type": "code",
   "execution_count": 13,
   "metadata": {},
   "outputs": [],
   "source": [
    "sp_ratings, pd_ratings = load_data_sparse(data_name, False)"
   ]
  },
  {
   "cell_type": "code",
   "execution_count": 14,
   "metadata": {},
   "outputs": [],
   "source": [
    "_, pd_pred = load_data_sparse(test_name, False)"
   ]
  },
  {
   "cell_type": "markdown",
   "metadata": {},
   "source": [
    "Convert it into surprise"
   ]
  },
  {
   "cell_type": "code",
   "execution_count": 15,
   "metadata": {},
   "outputs": [],
   "source": [
    "spr_data = pandas_to_surprise(pd_ratings)"
   ]
  },
  {
   "cell_type": "markdown",
   "metadata": {},
   "source": [
    "Split into test and dataset"
   ]
  },
  {
   "cell_type": "code",
   "execution_count": 16,
   "metadata": {},
   "outputs": [],
   "source": [
    "trainset = spr_data.build_full_trainset()\n",
    "testset = pandas_to_surprise(pd_pred, pred=True)"
   ]
  },
  {
   "cell_type": "markdown",
   "metadata": {},
   "source": [
    "get labels"
   ]
  },
  {
   "cell_type": "code",
   "execution_count": 17,
   "metadata": {},
   "outputs": [],
   "source": [
    "_,_,labels = get_testset_indices(testset)"
   ]
  },
  {
   "cell_type": "code",
   "execution_count": 18,
   "metadata": {},
   "outputs": [
    {
     "name": "stdout",
     "output_type": "stream",
     "text": [
      "Estimating biases using als...\n"
     ]
    }
   ],
   "source": [
    "baseline = surprise_baseline(trainset, testset)"
   ]
  },
  {
   "cell_type": "code",
   "execution_count": 19,
   "metadata": {},
   "outputs": [
    {
     "data": {
      "text/plain": [
       "0.9952563055945158"
      ]
     },
     "execution_count": 19,
     "metadata": {},
     "output_type": "execute_result"
    }
   ],
   "source": [
    "calculate_rmse(labels, baseline)"
   ]
  },
  {
   "cell_type": "code",
   "execution_count": 20,
   "metadata": {
    "scrolled": true
   },
   "outputs": [],
   "source": [
    "svd = surprise_SVD(trainset, testset)"
   ]
  },
  {
   "cell_type": "code",
   "execution_count": 21,
   "metadata": {},
   "outputs": [
    {
     "data": {
      "text/plain": [
       "0.9704055381993139"
      ]
     },
     "execution_count": 21,
     "metadata": {},
     "output_type": "execute_result"
    }
   ],
   "source": [
    "calculate_rmse(labels, svd)"
   ]
  },
  {
   "cell_type": "code",
   "execution_count": 22,
   "metadata": {},
   "outputs": [],
   "source": [
    "so = surprise_slopeOne(trainset, testset)"
   ]
  },
  {
   "cell_type": "code",
   "execution_count": 23,
   "metadata": {},
   "outputs": [
    {
     "data": {
      "text/plain": [
       "1.0112568469420897"
      ]
     },
     "execution_count": 23,
     "metadata": {},
     "output_type": "execute_result"
    }
   ],
   "source": [
    "calculate_rmse(labels, so)"
   ]
  },
  {
   "cell_type": "code",
   "execution_count": 24,
   "metadata": {},
   "outputs": [
    {
     "name": "stdout",
     "output_type": "stream",
     "text": [
      "Estimating biases using als...\n",
      "Computing the pearson_baseline similarity matrix...\n",
      "Done computing similarity matrix.\n"
     ]
    }
   ],
   "source": [
    "bsknn = surprise_baselineKNN(trainset, testset)"
   ]
  },
  {
   "cell_type": "code",
   "execution_count": 25,
   "metadata": {},
   "outputs": [
    {
     "data": {
      "text/plain": [
       "1.0276913542358548"
      ]
     },
     "execution_count": 25,
     "metadata": {},
     "output_type": "execute_result"
    }
   ],
   "source": [
    "calculate_rmse(labels, bsknn)"
   ]
  },
  {
   "cell_type": "code",
   "execution_count": 26,
   "metadata": {},
   "outputs": [],
   "source": [
    "num_features = 40  # K in the lecture notes\n",
    "lambda_user = 0.1\n",
    "lambda_film = 0.1\n",
    "stop_criterion = 1e-4"
   ]
  },
  {
   "cell_type": "code",
   "execution_count": 27,
   "metadata": {},
   "outputs": [
    {
     "name": "stdout",
     "output_type": "stream",
     "text": [
      "learn the matrix factorization using ALS...\n",
      "RMSE: 1.0894514833867237.\n",
      "RMSE: 1.0483624776035143.\n",
      "RMSE: 1.0146416435665808.\n",
      "RMSE: 0.9882882413815345.\n",
      "RMSE: 0.9708652527607661.\n",
      "RMSE: 0.9585903673417175.\n",
      "RMSE: 0.9495531686209909.\n",
      "RMSE: 0.9428363249826118.\n",
      "RMSE: 0.9378038881307342.\n",
      "RMSE: 0.933958635247875.\n",
      "RMSE: 0.9309521652759987.\n",
      "RMSE: 0.9285548931808277.\n",
      "RMSE: 0.9266144169329613.\n",
      "RMSE: 0.9250255742919575.\n",
      "RMSE: 0.9237127269791121.\n",
      "RMSE: 0.9226196283783649.\n",
      "RMSE: 0.9217033930824404.\n",
      "RMSE: 0.9209306967591386.\n",
      "RMSE: 0.9202752687213152.\n",
      "RMSE: 0.9197161790641709.\n",
      "RMSE: 0.9192366302902291.\n",
      "RMSE: 0.9188230750558981.\n",
      "RMSE: 0.9184645495338126.\n",
      "RMSE: 0.9181521550057589.\n",
      "RMSE: 0.9178786469532956.\n",
      "RMSE: 0.9176381063467502.\n",
      "RMSE: 0.9174256762139948.\n",
      "RMSE: 0.9172373510148559.\n",
      "RMSE: 0.9170698088709124.\n",
      "RMSE: 0.9169202783955801.\n",
      "RMSE: 0.9167864332214709.\n",
      "RMSE: 0.9166663085121035.\n",
      "RMSE: 0.9165582347999264.\n",
      "RMSE: 0.9164607854133959.\n",
      "Iteration stopped, as iteration criterion 0.0001 was reached. RMSE = 0.9164607854133959\n"
     ]
    }
   ],
   "source": [
    "als = ALS_CV(trainset, testset, num_features, lambda_user, lambda_film, stop_criterion)"
   ]
  },
  {
   "cell_type": "code",
   "execution_count": 28,
   "metadata": {},
   "outputs": [
    {
     "data": {
      "text/plain": [
       "0.9132832048615761"
      ]
     },
     "execution_count": 28,
     "metadata": {},
     "output_type": "execute_result"
    }
   ],
   "source": [
    "calculate_rmse(labels, als)"
   ]
  },
  {
   "cell_type": "code",
   "execution_count": 29,
   "metadata": {},
   "outputs": [
    {
     "name": "stdout",
     "output_type": "stream",
     "text": [
      "learn the matrix factorization using SGD...\n",
      "RMSE: 1.0417471959338522.\n",
      "RMSE: 1.0181669879272277.\n",
      "RMSE: 1.0106836766524772.\n",
      "RMSE: 1.0065829549483438.\n",
      "RMSE: 1.0050246730356185.\n",
      "RMSE: 1.0044737054247757.\n",
      "RMSE: 1.0041436893510656.\n",
      "RMSE: 1.0039953750886863.\n",
      "RMSE: 1.0039697606770512.\n"
     ]
    }
   ],
   "source": [
    "sgd = matrix_factorization_SGD_CV(trainset, testset, num_features, lambda_user, lambda_film, stop_criterion)"
   ]
  },
  {
   "cell_type": "code",
   "execution_count": 30,
   "metadata": {},
   "outputs": [
    {
     "data": {
      "text/plain": [
       "0.9686918626282042"
      ]
     },
     "execution_count": 30,
     "metadata": {},
     "output_type": "execute_result"
    }
   ],
   "source": [
    "calculate_rmse(labels, sgd)"
   ]
  },
  {
   "cell_type": "code",
   "execution_count": 33,
   "metadata": {},
   "outputs": [],
   "source": [
    "def surprise_SVDpp(trainset, finalset):\n",
    "\n",
    "    options = {'method': 'als',\n",
    "               'reg_i': 1.e-5,\n",
    "               'reg_u': 14.6,\n",
    "               'n_epochs': 10\n",
    "               }\n",
    "\n",
    "    algo = spr.SVDpp(n_factors=40, n_epochs=20, lr_all=0.001)\n",
    "\n",
    "    algo.fit(trainset)\n",
    "    predictions_final = algo.test(finalset)\n",
    "\n",
    "    return spr_estimate_to_vect(predictions_final)"
   ]
  },
  {
   "cell_type": "code",
   "execution_count": 34,
   "metadata": {},
   "outputs": [],
   "source": [
    "svdpp = surprise_SVDpp(trainset, testset)"
   ]
  },
  {
   "cell_type": "code",
   "execution_count": 35,
   "metadata": {},
   "outputs": [
    {
     "data": {
      "text/plain": [
       "0.955194744531699"
      ]
     },
     "execution_count": 35,
     "metadata": {},
     "output_type": "execute_result"
    }
   ],
   "source": [
    "calculate_rmse(labels, svdpp)"
   ]
  },
  {
   "cell_type": "code",
   "execution_count": 36,
   "metadata": {},
   "outputs": [],
   "source": [
    "coeffs = np.array([-0.33202676, -0.24487176, -0.03659188,  0.29858978,  0.98595659, 0.05355454,  0.30458821])\n",
    "\n",
    "result = baseline * coeffs[0] + svd * coeffs[1] + so * coeffs[2] + bsknn * coeffs[3] + als * coeffs[4] + sgd * coeffs[5] + svdpp * coeffs[6]"
   ]
  },
  {
   "cell_type": "code",
   "execution_count": 37,
   "metadata": {},
   "outputs": [],
   "source": [
    "create_submission_from_prediction(result, '6modelsblend.csv')"
   ]
  },
  {
   "cell_type": "code",
   "execution_count": null,
   "metadata": {},
   "outputs": [],
   "source": []
  }
 ],
 "metadata": {
  "kernelspec": {
   "display_name": "Python [default]",
   "language": "python",
   "name": "python3"
  },
  "language_info": {
   "codemirror_mode": {
    "name": "ipython",
    "version": 3
   },
   "file_extension": ".py",
   "mimetype": "text/x-python",
   "name": "python",
   "nbconvert_exporter": "python",
   "pygments_lexer": "ipython3",
   "version": "3.7.0"
  }
 },
 "nbformat": 4,
 "nbformat_minor": 2
}
